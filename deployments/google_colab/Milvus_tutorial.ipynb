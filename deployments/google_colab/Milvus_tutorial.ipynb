{
 "cells": [
  {
   "cell_type": "markdown",
   "metadata": {
    "id": "oty9WJMIZ0Qn"
   },
   "source": [
    "This tutorial will show you how to [install Milvus from source code](https://github.com/milvus-io/milvus/blob/master/INSTALL.md) and run the [python code](https://milvus-io.github.io/milvus-sdk-python/pythondoc/v0.2.14/index.html)."
   ]
  },
  {
   "cell_type": "markdown",
   "metadata": {
    "id": "H2IqGXnWeXKq"
   },
   "source": [
    "## Install Milvus from source code"
   ]
  },
  {
   "cell_type": "markdown",
   "metadata": {
    "id": "oRPsXxceets_"
   },
   "source": [
    "### Download the code and Compile"
   ]
  },
  {
   "cell_type": "markdown",
   "metadata": {
    "id": "6CYhW5oZf5v9"
   },
   "source": [
    "Step 1 Download Milvus source code"
   ]
  },
  {
   "cell_type": "code",
   "execution_count": null,
   "metadata": {
    "id": "StwePnJQErfy"
   },
   "outputs": [],
   "source": [
    "!git clone -b 1.1 https://github.com/milvus-io/milvus.git"
   ]
  },
  {
   "cell_type": "markdown",
   "metadata": {
    "id": "dP0NOI8MgHsu"
   },
   "source": [
    "Step 2 Install dependencies"
   ]
  },
  {
   "cell_type": "code",
   "execution_count": null,
   "metadata": {
    "id": "Sc62EtnOIqkz"
   },
   "outputs": [],
   "source": [
    "% cd /content/milvus/core\n",
    "! ./ubuntu_build_deps.sh"
   ]
  },
  {
   "cell_type": "markdown",
   "metadata": {
    "id": "AeCWtdQogQQ_"
   },
   "source": [
    "Step 3 Build Milvus source code"
   ]
  },
  {
   "cell_type": "code",
   "execution_count": null,
   "metadata": {
    "id": "lTnn2t5TJgwT"
   },
   "outputs": [],
   "source": [
    "% cd /content/milvus/core  \n",
    "!ls\n",
    "!./build.sh -t Release\n",
    "# If you want to build GPU version, add -g option, and Edit the Notebook settings with GPU\n",
    "# !./build.sh -t Release -g"
   ]
  },
  {
   "cell_type": "markdown",
   "metadata": {
    "id": "5VYU_Vuse3du"
   },
   "source": [
    "### Launch Milvus server"
   ]
  },
  {
   "cell_type": "markdown",
   "metadata": {
    "id": "uuVy15nage21"
   },
   "source": [
    "Add `lib/` directory to `LD_LIBRARY_PATH`"
   ]
  },
  {
   "cell_type": "code",
   "execution_count": null,
   "metadata": {
    "id": "LWKTxbWB3t6k"
   },
   "outputs": [],
   "source": [
    "% cd /content/milvus/core/milvus\n",
    "! echo $LD_LIBRARY_PATH\n",
    "import os\n",
    "os.environ['LD_LIBRARY_PATH'] +=\":/content/milvus/core/milvus/lib\"\n",
    "! echo $LD_LIBRARY_PATH"
   ]
  },
  {
   "cell_type": "markdown",
   "metadata": {
    "id": "LDItQnl6gqRB"
   },
   "source": [
    "Start Milvus server and hang"
   ]
  },
  {
   "cell_type": "code",
   "execution_count": null,
   "metadata": {
    "id": "kUP-sYY84f2w"
   },
   "outputs": [],
   "source": [
    "% cd scripts\n",
    "! ls\n",
    "! nohup ./start_server.sh &"
   ]
  },
  {
   "cell_type": "markdown",
   "metadata": {
    "id": "cc58c0UEk6yZ"
   },
   "source": [
    "Show Milvus server status\n",
    "\n",
    "If you can find the following content, the Milvus server is successfully running: `Milvus server started successfully!`"
   ]
  },
  {
   "cell_type": "code",
   "execution_count": null,
   "metadata": {
    "id": "FPjd0KuT6RQG"
   },
   "outputs": [],
   "source": [
    "! ls\n",
    "! cat nohup.out"
   ]
  },
  {
   "cell_type": "markdown",
   "metadata": {
    "id": "_b9dnZxsfBkb"
   },
   "source": [
    "## Run Python Code"
   ]
  },
  {
   "cell_type": "markdown",
   "metadata": {
    "id": "CgHV9nxip1Ki"
   },
   "source": [
    "### Install Milvus Python SDK"
   ]
  },
  {
   "cell_type": "code",
   "execution_count": null,
   "metadata": {
    "id": "mZ5XwO5m9cO2"
   },
   "outputs": [],
   "source": [
    "! pip install pymilvus==1.1.0"
   ]
  },
  {
   "cell_type": "markdown",
   "metadata": {
    "id": "QNHMM1GZqLLe"
   },
   "source": [
    "### Import pymilvus"
   ]
  },
  {
   "cell_type": "code",
   "execution_count": null,
   "metadata": {
    "id": "YjAPCIG09lKt"
   },
   "outputs": [],
   "source": [
    "import random\n",
    "import numpy as np\n",
    "\n",
    "from milvus import Milvus, IndexType, MetricType, Status\n",
    "\n",
    "# Milvus server IP address and port.\n",
    "# You may need to change _HOST and _PORT accordingly.\n",
    "_HOST = '127.0.0.1'\n",
    "_PORT = '19530'  # default value\n",
    "# _PORT = '19121'  # default http value\n",
    "\n",
    "# Vector parameters\n",
    "_DIM = 8  # dimension of vector\n",
    "\n",
    "_INDEX_FILE_SIZE = 32  # max file size of stored index\n",
    "\n",
    "# the demo name.\n",
    "collection_name = 'example_collection_'\n",
    "partition_tag = 'demo_tag_'\n",
    "segment_name= ''\n",
    "\n",
    "# 10 vectors with 8 dimension, per element is float32 type, vectors should be a 2-D array\n",
    "vectors = [[random.random() for _ in range(_DIM)] for _ in range(10)]\n",
    "ids = [i for i in range(10)]"
   ]
  },
  {
   "cell_type": "markdown",
   "metadata": {
    "id": "JfbcppegrYB4"
   },
   "source": [
    "### Connect Milvus and check version"
   ]
  },
  {
   "cell_type": "code",
   "execution_count": null,
   "metadata": {
    "id": "XSppa-yg9oSD"
   },
   "outputs": [],
   "source": [
    "# Connect to Milvus Server \n",
    "milvus = Milvus(_HOST, _PORT)\n",
    "\n",
    "# Close client instance\n",
    "# milvus.close()\n",
    "\n",
    "# Returns the status of the Milvus server.\n",
    "server_status = milvus.server_status(timeout=10)\n",
    "print(server_status)"
   ]
  },
  {
   "cell_type": "code",
   "execution_count": null,
   "metadata": {
    "id": "39woJCzO9sYI"
   },
   "outputs": [],
   "source": [
    "# Returns the version of the client.\n",
    "client_version= milvus.client_version()\n",
    "print(client_version)\n",
    "\n",
    "# Returns the version of the Milvus server.\n",
    "server_version = milvus.server_version(timeout=10)\n",
    "print(server_version)"
   ]
  },
  {
   "cell_type": "markdown",
   "metadata": {
    "id": "H6EFgdyLrd-0"
   },
   "source": [
    "### Check and create collection/index"
   ]
  },
  {
   "cell_type": "code",
   "execution_count": null,
   "metadata": {
    "id": "o-bno8kgAgPX"
   },
   "outputs": [],
   "source": [
    "# Checks whether a collection exists.\n",
    "milvus.has_collection(collection_name=collection_name, timeout=10)"
   ]
  },
  {
   "cell_type": "code",
   "execution_count": null,
   "metadata": {
    "id": "ODxBgrSNAsYE"
   },
   "outputs": [],
   "source": [
    "# Information needed to create a collection.Defult index_file_size=1024 and metric_type=MetricType.L2\n",
    "param={'collection_name':collection_name, 'dimension': _DIM, 'index_file_size': _INDEX_FILE_SIZE, 'metric_type': MetricType.L2}\n",
    "# Creates a collection.\n",
    "milvus.create_collection(param, timeout=10)"
   ]
  },
  {
   "cell_type": "code",
   "execution_count": null,
   "metadata": {
    "id": "41i7MqkqAur6"
   },
   "outputs": [],
   "source": [
    "# Checks whether a partition exists.\n",
    "milvus.has_partition(collection_name=collection_name, partition_tag=partition_tag)"
   ]
  },
  {
   "cell_type": "code",
   "execution_count": null,
   "metadata": {
    "id": "dBkBbsNZAwr6"
   },
   "outputs": [],
   "source": [
    "# Create a partition for a collection.\n",
    "milvus.create_partition(collection_name=collection_name, partition_tag=partition_tag, timeout=10)"
   ]
  },
  {
   "cell_type": "code",
   "execution_count": null,
   "metadata": {
    "id": "uo762CN5Az5y"
   },
   "outputs": [],
   "source": [
    "ivf_param = {'nlist': 16384}\n",
    "# Creates index for a collection.\n",
    "milvus.create_index(collection_name=collection_name, index_type=IndexType.IVF_FLAT, params=ivf_param)"
   ]
  },
  {
   "cell_type": "markdown",
   "metadata": {
    "id": "K_x-I2idrlSX"
   },
   "source": [
    "### Insert data and flush"
   ]
  },
  {
   "cell_type": "code",
   "execution_count": null,
   "metadata": {
    "id": "9PU1gI4sA2Ta"
   },
   "outputs": [],
   "source": [
    "# Insert vectors to a collection.\n",
    "milvus.insert(collection_name=collection_name, records=vectors, ids=ids)"
   ]
  },
  {
   "cell_type": "code",
   "execution_count": null,
   "metadata": {
    "id": "XPgZV4n6A5la"
   },
   "outputs": [],
   "source": [
    "# Flushes vector data in one collection or multiple collections to disk.\n",
    "milvus.flush(collection_name_array=[collection_name], timeout=None)"
   ]
  },
  {
   "cell_type": "markdown",
   "metadata": {
    "id": "-wbQVapprrcW"
   },
   "source": [
    "### Load data and search"
   ]
  },
  {
   "cell_type": "code",
   "execution_count": null,
   "metadata": {
    "id": "NTyK-g5cA7wZ"
   },
   "outputs": [],
   "source": [
    "# Loads a collection for caching.\n",
    "milvus.load_collection(collection_name=collection_name, timeout=None)"
   ]
  },
  {
   "cell_type": "code",
   "execution_count": null,
   "metadata": {
    "id": "vm8RWaZwA-eS"
   },
   "outputs": [],
   "source": [
    "# Search vectors in a collection.\n",
    "search_param = { \"nprobe\": 16 }\n",
    "milvus.search(collection_name=collection_name,query_records=[vectors[0]],partition_tags=None,top_k=10,params=search_param)"
   ]
  },
  {
   "cell_type": "markdown",
   "metadata": {
    "id": "zjK-yrDsrwWT"
   },
   "source": [
    "### Get info about collection/index"
   ]
  },
  {
   "cell_type": "code",
   "execution_count": null,
   "metadata": {
    "id": "ai0crCJeBBpK"
   },
   "outputs": [],
   "source": [
    "# Returns collection list.\n",
    "milvus.list_collections(timeout=10)"
   ]
  },
  {
   "cell_type": "code",
   "execution_count": null,
   "metadata": {
    "id": "Ujw58_88BFuS"
   },
   "outputs": [],
   "source": [
    "# Show all partitions in a collection.\n",
    "milvus.list_partitions(collection_name=collection_name, timeout=10)"
   ]
  },
  {
   "cell_type": "code",
   "execution_count": null,
   "metadata": {
    "id": "Ym2OSR8UBJqy"
   },
   "outputs": [],
   "source": [
    "# Returns the number of vectors in a collection.\n",
    "milvus.count_entities(collection_name=collection_name, timeout=10)"
   ]
  },
  {
   "cell_type": "code",
   "execution_count": null,
   "metadata": {
    "id": "25Armn5YBLkW"
   },
   "outputs": [],
   "source": [
    "# Returns information of a collection.\n",
    "milvus.get_collection_info(collection_name=collection_name, timeout=10)"
   ]
  },
  {
   "cell_type": "code",
   "execution_count": null,
   "metadata": {
    "id": "08t78sWYBQBq"
   },
   "outputs": [],
   "source": [
    "# Returns collection statistics information\n",
    "milvus.get_collection_stats(collection_name=collection_name, timeout=10)"
   ]
  },
  {
   "cell_type": "code",
   "execution_count": null,
   "metadata": {
    "id": "dY9CqZ72BSYS"
   },
   "outputs": [],
   "source": [
    "# Show index information of a collection.\n",
    "milvus.get_index_info(collection_name=collection_name, timeout=10)"
   ]
  },
  {
   "cell_type": "markdown",
   "metadata": {
    "id": "W49q311Yr4ZM"
   },
   "source": [
    "### Get data by ids"
   ]
  },
  {
   "cell_type": "code",
   "execution_count": null,
   "metadata": {
    "id": "zQ_yUHauBYeK"
   },
   "outputs": [],
   "source": [
    "# List the ids in segment\n",
    "# you can get the segment_name list by get_collection_stats() function.\n",
    "milvus.list_id_in_segment(collection_name =collection_name, segment_name='1600328539015368000', timeout=None)"
   ]
  },
  {
   "cell_type": "code",
   "execution_count": null,
   "metadata": {
    "id": "jmTFaoJVBc3K"
   },
   "outputs": [],
   "source": [
    "# Returns raw vectors according to ids, and you can get the ids list by list_id_in_segment() function.\n",
    "# ids (list) -- list of vector id\n",
    "milvus.get_entity_by_id(collection_name=collection_name, ids=[0], timeout=None)"
   ]
  },
  {
   "cell_type": "markdown",
   "metadata": {
    "id": "PUJJFWVwsCVK"
   },
   "source": [
    "### Get and set the configurations"
   ]
  },
  {
   "cell_type": "code",
   "execution_count": null,
   "metadata": {
    "id": "HOVsUsPqBtDa"
   },
   "outputs": [],
   "source": [
    "# Gets Milvus configurations.\n",
    "milvus.get_config(parent_key='cache', child_key='cache_size')"
   ]
  },
  {
   "cell_type": "code",
   "execution_count": null,
   "metadata": {
    "id": "48hPN8UsBv4h"
   },
   "outputs": [],
   "source": [
    "# Sets Milvus configurations.\n",
    "milvus.set_config(parent_key='cache', child_key='cache_size', value='5G')"
   ]
  },
  {
   "cell_type": "markdown",
   "metadata": {
    "id": "FHvWWc5bsGTZ"
   },
   "source": [
    "### Delete data/index"
   ]
  },
  {
   "cell_type": "code",
   "execution_count": null,
   "metadata": {
    "id": "xxqtilXbBykZ"
   },
   "outputs": [],
   "source": [
    "# Removes an index.\n",
    "milvus.drop_index(collection_name=collection_name, timeout=None)"
   ]
  },
  {
   "cell_type": "code",
   "execution_count": null,
   "metadata": {
    "id": "NLwaRd7aB2sS"
   },
   "outputs": [],
   "source": [
    "# Deletes a partition in a collection.\n",
    "milvus.drop_partition(collection_name=collection_name, partition_tag=partition_tag, timeout=None)"
   ]
  },
  {
   "cell_type": "code",
   "execution_count": null,
   "metadata": {
    "id": "lRkG85SbB5qP"
   },
   "outputs": [],
   "source": [
    "# Deletes vectors in a collection by vector ID.\n",
    "# id_array (list[int]) -- list of vector id\n",
    "milvus.delete_entity_by_id(collection_name=collection_name, id_array=[0], timeout=None)"
   ]
  },
  {
   "cell_type": "code",
   "execution_count": null,
   "metadata": {
    "id": "h_LRzasPB7KU"
   },
   "outputs": [],
   "source": [
    "# Deletes a collection by name.\n",
    "# milvus.drop_collection(collection_name=collection_name, timeout=10)"
   ]
  }
 ],
 "metadata": {
  "colab": {
   "collapsed_sections": [
    "ypRryY27eiVj",
    "5VYU_Vuse3du",
    "CgHV9nxip1Ki",
    "QNHMM1GZqLLe",
    "JfbcppegrYB4",
    "H6EFgdyLrd-0",
    "K_x-I2idrlSX",
    "-wbQVapprrcW",
    "zjK-yrDsrwWT",
    "W49q311Yr4ZM",
    "PUJJFWVwsCVK",
    "FHvWWc5bsGTZ"
   ],
   "name": "Milvus_tutorial.ipynb",
   "provenance": []
  },
  "kernelspec": {
   "display_name": "Python 3",
   "language": "python",
   "name": "python3"
  },
  "language_info": {
   "codemirror_mode": {
    "name": "ipython",
    "version": 3
   },
   "file_extension": ".py",
   "mimetype": "text/x-python",
   "name": "python",
   "nbconvert_exporter": "python",
   "pygments_lexer": "ipython3",
   "version": "3.7.10"
  }
 },
 "nbformat": 4,
 "nbformat_minor": 1
}
