{
 "cells": [
  {
   "cell_type": "markdown",
   "id": "364c3467",
   "metadata": {},
   "source": [
    "# Question-answering chatbot\n",
    "In this example we will be going over the code required to perform Question-answering chatbot. This example uses a BERT to extract features of questions that are then used with Milvus to build a system that can perform the searches."
   ]
  },
  {
   "cell_type": "markdown",
   "id": "7ffbf466",
   "metadata": {},
   "source": [
    "## Data\n",
    "This example uses [InsuranceQA Corpus](https://github.com/shuzi/insuranceQA) dataset, which contains 27,413 answers (answer set size is 27,413) with the 3,065,492 running words of answers.\n",
    "\n",
    "Download location: https://github.com/chatopera/insuranceqa-corpus-zh/tree/release/corpus/pairs\n",
    "\n",
    "In this example, we use a small dataset that containing 100 pairs of quesiton-answer and you can find it under **data** directory."
   ]
  },
  {
   "cell_type": "markdown",
   "id": "49e47e44",
   "metadata": {},
   "source": [
    "## Requirements\n",
    "- [Milvus 1.0](https://milvus.io/docs/install_milvus.md)\n",
    "- [Postgresql](https://www.postgresql.org/)\n",
    "- [Bert](https://github.com/hanxiao/bert-as-service/tree/master)\n",
    "- requirements.txt"
   ]
  },
  {
   "cell_type": "markdown",
   "id": "a932f169",
   "metadata": {},
   "source": [
    "### Install required python packages"
   ]
  },
  {
   "cell_type": "code",
   "execution_count": null,
   "id": "7581227d",
   "metadata": {},
   "outputs": [],
   "source": [
    "pip install -r requirements.txt"
   ]
  },
  {
   "cell_type": "markdown",
   "id": "1626a93f",
   "metadata": {},
   "source": [
    "### Start Milvus Server\n",
    "\n",
    "This demo uses Milvus 1.1.0. Refer to the [Install Milvus](https://milvus.io/docs/milvus_docker-cpu.md) for how to install Milvus docker. "
   ]
  },
  {
   "cell_type": "code",
   "execution_count": null,
   "id": "d8f40223",
   "metadata": {},
   "outputs": [],
   "source": [
    "! docker run -d --name milvus_cpu_1.1.0 \\\n",
    "-p 19530:19530 \\\n",
    "-p 19121:19121 \\\n",
    "-v /home/$USER/milvus/db:/var/lib/milvus/db \\\n",
    "-v /home/$USER/milvus/conf:/var/lib/milvus/conf \\\n",
    "-v /home/$USER/milvus/logs:/var/lib/milvus/logs \\\n",
    "-v /home/$USER/milvus/wal:/var/lib/milvus/wal \\\n",
    "milvusdb/milvus:1.1.0-cpu-d050721-5e559c"
   ]
  },
  {
   "cell_type": "markdown",
   "id": "5ef0fd9c",
   "metadata": {},
   "source": [
    "### Install PostgreSQL\n",
    "For now, Milvus doesn't support to store string type data. Thus, we need a relational database to store questions and answers. In this example, we use [PostgreSQL](https://www.postgresql.org/).\n",
    "\n",
    "Install by launching Postgres.app: https://www.postgresql.org/download/"
   ]
  },
  {
   "cell_type": "markdown",
   "id": "83c6d90e",
   "metadata": {},
   "source": [
    "### Install and start BERT\n",
    "#### 1. Download model"
   ]
  },
  {
   "cell_type": "code",
   "execution_count": null,
   "id": "fb32e65d",
   "metadata": {},
   "outputs": [],
   "source": [
    "! wget -P model https://storage.googleapis.com/bert_models/2018_10_18/cased_L-12_H-768_A-12.zip\n",
    "! unzip model/cased_L-12_H-768_A-12.zip -d model/"
   ]
  },
  {
   "cell_type": "markdown",
   "id": "328731d5",
   "metadata": {},
   "source": [
    "#### 2. Start BERT service  \n",
    "BERT service keeps running which causes that we cannot run the next cell. So here we need go to the `model` path and then run the following command.\n",
    "```shell\n",
    "cd your_path/model\n",
    "bert-serving-start -model_dir cased_L-12_H-768_A-12/ -num_worker=2 -max_seq_len=40\n",
    "```"
   ]
  },
  {
   "cell_type": "markdown",
   "id": "40c4adb9",
   "metadata": {},
   "source": [
    "## Code Overview\n",
    "### Connecting to Servers\n",
    "\n",
    "We first start off by connecting to the servers. In this case the Milvus docker container is running on localhost and the port is the default port. And after start starting BERT and Postgresql you can get the ports of them.  \n",
    "<img style=\"float: left;\" src=\"./pic/BERT_info.png\" width=\"40%\">\n",
    "<img style=\"float: right;\" src=\"./pic/Postgresql_info.png\" width=\"60%\">"
   ]
  },
  {
   "cell_type": "code",
   "execution_count": null,
   "id": "53ec82a1",
   "metadata": {},
   "outputs": [],
   "source": [
    "#Connectings to Milvus, BERT and Postgresql\n",
    "\n",
    "from milvus import Milvus, IndexType, MetricType, Status\n",
    "from bert_serving.client import BertClient\n",
    "import psycopg2\n",
    "\n",
    "# TODO: Change USER_NAME to your computer user name.\n",
    "USER_NAME = 'mialee'\n",
    "\n",
    "milvus = Milvus(host = '127.0.0.1', port = 19530)\n",
    "bc = BertClient(ip='127.0.0.1', port=5555, check_length=False)\n",
    "conn = psycopg2.connect(host='localhost', port='5432', user=USER_NAME, password='', database=USER_NAME)\n",
    "cursor = conn.cursor()"
   ]
  },
  {
   "cell_type": "markdown",
   "id": "cd775d94",
   "metadata": {},
   "source": [
    "## Create collection and set index\n",
    "#### 1. Create a collection  \n",
    "A collection in Milvus is similar to a table in a relational database, and is used for storing all the vectors.  \n",
    "Required parameters for creating a collection:  \n",
    "    - `collection_name`: Name of a collection.  \n",
    "    - `dimension`: BERT generates 728-dimensional vectors.  \n",
    "    - `index_file_size`: how large each data segmet will be within the collection.      \n",
    "    - `metric_type`: the distance formula being used to calculate similarity. In this example we are using Inner product (IP)."
   ]
  },
  {
   "cell_type": "code",
   "execution_count": null,
   "id": "0829a1ff",
   "metadata": {},
   "outputs": [],
   "source": [
    "TABLE_NAME = 'chatbot'\n",
    "\n",
    "collection_param = {\n",
    "            'collection_name': TABLE_NAME,\n",
    "            'dimension': 768,\n",
    "            'index_file_size': 1024,  \n",
    "            'metric_type': MetricType.IP \n",
    "            }\n",
    "\n",
    "status = milvus.create_collection(collection_param)\n",
    "print(status)"
   ]
  },
  {
   "cell_type": "markdown",
   "id": "f9f601a9",
   "metadata": {},
   "source": [
    "#### 2. Set an index\n",
    "After creating the collection we want to assign it an index type. This can be done before or after inserting the data. When done before, indexes will be made as data comes in and fills the data segments. In this example we are using IVF_FLAT which requires the 'nlist' parameter. Each index types carries its own parameters. More info about this param can be found [here](https://milvus.io/docs/v1.1.0/index.md#CPU)."
   ]
  },
  {
   "cell_type": "code",
   "execution_count": null,
   "id": "25e4eaa0",
   "metadata": {},
   "outputs": [],
   "source": [
    "param = {'nlist': 16384}\n",
    "status = milvus.create_index(TABLE_NAME, IndexType.IVF_FLAT, param)\n",
    "print(status)"
   ]
  },
  {
   "cell_type": "markdown",
   "id": "0a53735f",
   "metadata": {},
   "source": [
    "### Create table in Postgre  \n",
    "PostgresSQL will be used to store the Milvus ID and its corresponding answer and question."
   ]
  },
  {
   "cell_type": "code",
   "execution_count": null,
   "id": "6174d378",
   "metadata": {},
   "outputs": [],
   "source": [
    "try:\n",
    "    sql = \"CREATE TABLE if not exists \" + TABLE_NAME + \" (ids bigint, question text, answer text);\"\n",
    "    cursor.execute(sql)\n",
    "    conn.commit()\n",
    "    print(\"create postgres table successfully!\")\n",
    "except Exception as e:\n",
    "    print(\"can't create a postgres table: \", e)"
   ]
  },
  {
   "cell_type": "markdown",
   "id": "ea03ccb7",
   "metadata": {},
   "source": [
    "### Processing and Storing QA dataset\n",
    "#### 1.Generate embeddings\n",
    "Use BERT to convert questions into vectors. Then normalize and import vectors into Milvus. "
   ]
  },
  {
   "cell_type": "code",
   "execution_count": null,
   "id": "a3372f03",
   "metadata": {},
   "outputs": [],
   "source": [
    "import pandas as pd\n",
    "from functools import reduce\n",
    "import numpy as np\n",
    "\n",
    "# Get questions and answers.\n",
    "data = pd.read_csv('data/example.csv')\n",
    "question_data = data['question'].tolist()\n",
    "answer_data = data['answer'].tolist()\n",
    "\n",
    "# Convert quesitons to embeddings and normalize them.\n",
    "def normaliz_vec(vec_list):\n",
    "    question_vec = []\n",
    "    for vec in vec_list:\n",
    "        square_sum = reduce(lambda x,y:x+y, map(lambda x:x*x ,vec))\n",
    "        sqrt_square_sum = np.sqrt(square_sum)\n",
    "        coef = 1/sqrt_square_sum\n",
    "        vec = list(map(lambda x:x*coef, vec))\n",
    "        question_vec.append(vec)\n",
    "    return question_vec\n",
    "\n",
    "question_vec = bc.encode(question_data)\n",
    "question_norm_vec = normaliz_vec(question_vec)"
   ]
  },
  {
   "cell_type": "markdown",
   "id": "4dd09678",
   "metadata": {},
   "source": [
    "#### 2. Insert vectors in Milvus"
   ]
  },
  {
   "cell_type": "code",
   "execution_count": null,
   "id": "1fd77d42",
   "metadata": {},
   "outputs": [],
   "source": [
    "status, ids = milvus.insert(collection_name=TABLE_NAME, records=question_norm_vec)\n",
    "\n",
    "status"
   ]
  },
  {
   "cell_type": "markdown",
   "id": "0cb833d2",
   "metadata": {},
   "source": [
    "#### 3. Import IDs, questions and answers in PostgreSQL\n",
    "And then import the generated (or specific) IDs and their corresponding questions and answers in PostgreSQL."
   ]
  },
  {
   "cell_type": "code",
   "execution_count": null,
   "id": "5776ac9e",
   "metadata": {},
   "outputs": [],
   "source": [
    "import os \n",
    "\n",
    "def record_temp_csv(fname, ids, answer, question):\n",
    "    with open(fname,'w') as f:\n",
    "        for i in range(len(ids)):\n",
    "            line = str(ids[i]) + \"|\" + question[i] + \"|\" + answer[i] + \"\\n\"\n",
    "            f.write(line)\n",
    "\n",
    "def copy_data_to_pg(table_name, fname, conn, cur):\n",
    "    fname = os.path.join(os.getcwd(),fname)\n",
    "    sql = \"copy \" + table_name + \" from '\" + fname + \"' with CSV delimiter '|';\"\n",
    "    try:\n",
    "        cursor.execute(sql)\n",
    "        conn.commit()\n",
    "        print(\"insert to pg sucessfully!\")\n",
    "    except Exception as e:\n",
    "        print(\"copy data to postgre failed: \", e)\n",
    "        \n",
    "DATA_WITH_IDS = 'data/example_with_ids.csv'   \n",
    "\n",
    "record_temp_csv(DATA_WITH_IDS, ids, answer_data, question_data)\n",
    "copy_data_to_pg(TABLE_NAME, DATA_WITH_IDS, conn, cursor)"
   ]
  },
  {
   "cell_type": "markdown",
   "id": "be2d9599",
   "metadata": {},
   "source": [
    "### Searching\n",
    "#### 1. Process query question and search in Milvus\n",
    "When searching for a question, we first put the question through the same BERT model to generate embedding. Then we can get a vector and use it to search similar embeddings in Milvus.  \n",
    "There may not have questions that are similar to the given one. So we can set a threshold value, here we use 0.8, and when the most similar distance retrieved is less than this value, a hint that the system doesn't include the relevant question is returned."
   ]
  },
  {
   "cell_type": "code",
   "execution_count": null,
   "id": "d77a9db1",
   "metadata": {},
   "outputs": [],
   "source": [
    "SEARCH_PARAM = {'nprobe': 32}\n",
    "\n",
    "question = \"Which life insurance is more recommended?\"\n",
    "vector = bc.encode([question])\n",
    "vector_list = normaliz_vec(vector.tolist())\n",
    "status, results = milvus.search(collection_name=TABLE_NAME, query_records=vector_list, top_k=5, params=SEARCH_PARAM)\n",
    "\n",
    "if results[0][0].distance < 0.8:\n",
    "    print(\"No similar questions in the database!\")\n",
    "else:\n",
    "    print(results)"
   ]
  },
  {
   "cell_type": "markdown",
   "id": "618b9164",
   "metadata": {},
   "source": [
    "#### 2. Get similar questions\n",
    "Quering the corresponding questions in PostgreSQL with the returned IDs."
   ]
  },
  {
   "cell_type": "code",
   "execution_count": null,
   "id": "80b7c45b",
   "metadata": {},
   "outputs": [],
   "source": [
    "similar_questions = []\n",
    "for result in results[0]:\n",
    "    sql = \"select question from \" + TABLE_NAME + \" where ids = \" + str(result.id) + \";\"\n",
    "    cursor.execute(sql)\n",
    "    rows=cursor.fetchall()\n",
    "    if len(rows):\n",
    "        similar_questions.append(rows[0][0])\n",
    "\n",
    "print(similar_questions)"
   ]
  },
  {
   "cell_type": "markdown",
   "id": "d5754976",
   "metadata": {},
   "source": [
    "#### 3. Get the answer\n",
    "After getting a list of similar questions, choose the one that you feel is closest to yours. Then you can use the question to search for the corresponding answer in PostgreSQL."
   ]
  },
  {
   "cell_type": "code",
   "execution_count": null,
   "id": "fa504d72",
   "metadata": {
    "scrolled": false
   },
   "outputs": [],
   "source": [
    "sql = \"select answer from \" + TABLE_NAME + \" where question = '\" + similar_questions[0] + \"';\"\n",
    "cursor.execute(sql)\n",
    "rows=cursor.fetchall()\n",
    "\n",
    "print(rows[0][0])"
   ]
  }
 ],
 "metadata": {
  "kernelspec": {
   "display_name": "Python 3",
   "language": "python",
   "name": "python3"
  },
  "language_info": {
   "codemirror_mode": {
    "name": "ipython",
    "version": 3
   },
   "file_extension": ".py",
   "mimetype": "text/x-python",
   "name": "python",
   "nbconvert_exporter": "python",
   "pygments_lexer": "ipython3",
   "version": "3.7.6"
  }
 },
 "nbformat": 4,
 "nbformat_minor": 5
}
