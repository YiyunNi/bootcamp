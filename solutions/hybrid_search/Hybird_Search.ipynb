{
 "cells": [
  {
   "cell_type": "markdown",
   "metadata": {},
   "source": [
    "# Hybrid Search\n",
    "In this example ,we try to do a hybrid query combining the vector database Milvus and the relational database Postgres.\n",
    "\n",
    "## Data\n",
    "\n",
    "The data used in this test are ANN_SIFT1B\n",
    "\n",
    "Data Link：<http://corpus-texmex.irisa.fr/>\n",
    "- Base Data Set：ANN_SIFT1B Base_set\n",
    "- Query Data Set：ANN_SIFIT1B Query_set"
   ]
  },
  {
   "cell_type": "markdown",
   "metadata": {},
   "source": [
    "## Requirements\n",
    "\n",
    "| Python Packages | Docker Servers |\n",
    "| --------------- | -------------- |\n",
    "| PyMilvus        | Milvus-1.1.0   |\n",
    "| Postgres           | Postgres          |\n",
    "|  Psycopg2 |\n",
    "|  Faker |\n",
    "|  Numpy |\n",
    "\n",
    "For this example we are assuming you are familiar with using Numpy, Psycopg2, and Faker"
   ]
  },
  {
   "cell_type": "markdown",
   "metadata": {},
   "source": [
    "## Up and Running\n",
    "\n",
    "### Start Milvus Server\n",
    "\n",
    "This demo uses Milvus 1.1.0, please refer to the [Install Milvus](https://milvus.io/docs/v1.1.0/install_milvus.md) guide to learn how to use this docker container. For this example we wont be mapping any local volumes. "
   ]
  },
  {
   "cell_type": "code",
   "execution_count": 11,
   "metadata": {},
   "outputs": [
    {
     "name": "stdout",
     "output_type": "stream",
     "text": [
      "2f8c3d29ad87ebcb2bc14e0044c9c88185e767a3473bf8d5584b8e499e203348\r\n"
     ]
    }
   ],
   "source": [
    "! docker run -d \\\n",
    "-p 19532:19530 \\\n",
    "-p 19122:19121 \\\n",
    "milvusdb/milvus:1.1.0-cpu-d050721-5e559c"
   ]
  },
  {
   "cell_type": "markdown",
   "metadata": {},
   "source": [
    "### Install PostgreSQL\n",
    "For now, Milvus doesn't support to store string type data. Thus, we need a relational database to store questions and answers. In this example, we use [PostgreSQL](https://www.postgresql.org/).\n",
    "\n",
    "Install by launching Postgres.app: https://www.postgresql.org/download/"
   ]
  },
  {
   "cell_type": "markdown",
   "metadata": {},
   "source": [
    "## Install Packages\n",
    "Install the required python package"
   ]
  },
  {
   "cell_type": "code",
   "execution_count": 16,
   "metadata": {},
   "outputs": [
    {
     "name": "stdout",
     "output_type": "stream",
     "text": [
      "Collecting pymilvus==1.1.0\n",
      "  Downloading pymilvus-1.1.0-py3-none-any.whl (56 kB)\n",
      "\u001b[K     |████████████████████████████████| 56 kB 351 kB/s eta 0:00:01\n",
      "\u001b[?25hRequirement already satisfied: grpcio-tools>=1.22.0 in /data/workspace/minicoda/lib/python3.7/site-packages (from pymilvus==1.1.0) (1.26.0)\n",
      "Requirement already satisfied: ujson>=2.0.0 in /data/workspace/minicoda/lib/python3.7/site-packages (from pymilvus==1.1.0) (2.0.3)\n",
      "Requirement already satisfied: requests>=2.22.0 in /data/workspace/minicoda/lib/python3.7/site-packages (from pymilvus==1.1.0) (2.25.1)\n",
      "Requirement already satisfied: grpcio>=1.22.0 in /data/workspace/minicoda/lib/python3.7/site-packages (from pymilvus==1.1.0) (1.31.0)\n",
      "Requirement already satisfied: six>=1.5.2 in /data/workspace/minicoda/lib/python3.7/site-packages (from grpcio>=1.22.0->pymilvus==1.1.0) (1.15.0)\n",
      "Requirement already satisfied: protobuf>=3.5.0.post1 in /data/workspace/minicoda/lib/python3.7/site-packages (from grpcio-tools>=1.22.0->pymilvus==1.1.0) (3.13.0)\n",
      "Requirement already satisfied: setuptools in /data/workspace/minicoda/lib/python3.7/site-packages (from protobuf>=3.5.0.post1->grpcio-tools>=1.22.0->pymilvus==1.1.0) (51.0.0.post20201207)\n",
      "Requirement already satisfied: urllib3<1.27,>=1.21.1 in /data/workspace/minicoda/lib/python3.7/site-packages (from requests>=2.22.0->pymilvus==1.1.0) (1.26.2)\n",
      "Requirement already satisfied: idna<3,>=2.5 in /data/workspace/minicoda/lib/python3.7/site-packages (from requests>=2.22.0->pymilvus==1.1.0) (2.10)\n",
      "Requirement already satisfied: chardet<5,>=3.0.2 in /data/workspace/minicoda/lib/python3.7/site-packages (from requests>=2.22.0->pymilvus==1.1.0) (4.0.0)\n",
      "Requirement already satisfied: certifi>=2017.4.17 in /data/workspace/minicoda/lib/python3.7/site-packages (from requests>=2.22.0->pymilvus==1.1.0) (2020.12.5)\n",
      "Installing collected packages: pymilvus\n",
      "  Attempting uninstall: pymilvus\n",
      "    Found existing installation: pymilvus 0.3.0\n",
      "    Uninstalling pymilvus-0.3.0:\n",
      "      Successfully uninstalled pymilvus-0.3.0\n",
      "Successfully installed pymilvus-1.1.0\n",
      "\u001b[33mWARNING: You are using pip version 21.0.1; however, version 21.1.1 is available.\n",
      "You should consider upgrading via the '/data/workspace/minicoda/bin/python3 -m pip install --upgrade pip' command.\u001b[0m\n",
      "Requirement already satisfied: numpy in /data/workspace/minicoda/lib/python3.7/site-packages (1.17.4)\n",
      "\u001b[33mWARNING: You are using pip version 21.0.1; however, version 21.1.1 is available.\n",
      "You should consider upgrading via the '/data/workspace/minicoda/bin/python3 -m pip install --upgrade pip' command.\u001b[0m\n",
      "Requirement already satisfied: psycopg2 in /data/workspace/minicoda/lib/python3.7/site-packages (2.8.4)\n",
      "\u001b[33mWARNING: You are using pip version 21.0.1; however, version 21.1.1 is available.\n",
      "You should consider upgrading via the '/data/workspace/minicoda/bin/python3 -m pip install --upgrade pip' command.\u001b[0m\n",
      "Requirement already satisfied: faker in /data/workspace/minicoda/lib/python3.7/site-packages (3.0.0)\n",
      "Requirement already satisfied: six>=1.10 in /data/workspace/minicoda/lib/python3.7/site-packages (from faker) (1.15.0)\n",
      "Collecting text-unidecode==1.3\n",
      "  Using cached text_unidecode-1.3-py2.py3-none-any.whl (78 kB)\n",
      "Requirement already satisfied: python-dateutil>=2.4 in /data/workspace/minicoda/lib/python3.7/site-packages (from faker) (2.8.1)\n",
      "Installing collected packages: text-unidecode\n",
      "  Attempting uninstall: text-unidecode\n",
      "    Found existing installation: text-unidecode 1.2\n",
      "    Uninstalling text-unidecode-1.2:\n",
      "      Successfully uninstalled text-unidecode-1.2\n",
      "Successfully installed text-unidecode-1.3\n",
      "\u001b[33mWARNING: You are using pip version 21.0.1; however, version 21.1.1 is available.\n",
      "You should consider upgrading via the '/data/workspace/minicoda/bin/python3 -m pip install --upgrade pip' command.\u001b[0m\n"
     ]
    }
   ],
   "source": [
    "!pip install pymilvus==1.1.0\n",
    "!pip install numpy\n",
    "!pip install psycopg2\n",
    "!pip install faker"
   ]
  },
  {
   "cell_type": "markdown",
   "metadata": {},
   "source": [
    "## Running code\n",
    "### Connecting to Servers\n",
    "We first start off by connecting to the servers. In this case the docker containers are running on localhost and the ports are the default ports."
   ]
  },
  {
   "cell_type": "code",
   "execution_count": 33,
   "metadata": {},
   "outputs": [],
   "source": [
    "#Connectings to Milvus and Postgres\n",
    "\n",
    "from milvus import *\n",
    "import psycopg2\n",
    "\n",
    "milvus = Milvus(host='localhost', port='19532')\n",
    "conn = psycopg2.connect(host='192.168.1.85', port='5432', user='postgres', password='postgres',database='test')\n",
    "cursor = conn.cursor()"
   ]
  },
  {
   "cell_type": "markdown",
   "metadata": {},
   "source": [
    "### Building Collection \n",
    "\n",
    "The next step is to create the collection in Milvus in order to store and retireval the vectors. We need to specify the parameter collection_name, dimension, index_file_size and metric_type when creating"
   ]
  },
  {
   "cell_type": "code",
   "execution_count": 97,
   "metadata": {},
   "outputs": [],
   "source": [
    "collection_name = 'newu'\n",
    "VEC_DIM = 128"
   ]
  },
  {
   "cell_type": "code",
   "execution_count": 98,
   "metadata": {},
   "outputs": [],
   "source": [
    "param = {\n",
    "            'collection_name': collection_name,\n",
    "            'dimension': VEC_DIM,\n",
    "            'index_file_size':1024,\n",
    "            'metric_type':MetricType.L2\n",
    "        }\n",
    "status, ok = milvus.has_collection(collection_name)\n",
    "\n",
    "if not ok:\n",
    "    milvus.create_collection(param)"
   ]
  },
  {
   "cell_type": "markdown",
   "metadata": {},
   "source": [
    "### Create an index\n",
    "Currently, a collection only supports one index type.Prepare the parameters needed to create indexes."
   ]
  },
  {
   "cell_type": "code",
   "execution_count": 99,
   "metadata": {},
   "outputs": [
    {
     "name": "stdout",
     "output_type": "stream",
     "text": [
      "(collection_name='newu', index_type=<IndexType: IVF_SQ8>, params={'nlist': 16384})\n"
     ]
    }
   ],
   "source": [
    "index_param = {\n",
    "    'nlist': 16384\n",
    "}\n",
    "status = milvus.create_index(collection_name, IndexType.IVF_SQ8, index_param)\n",
    "status, index = milvus.get_index_info(collection_name)\n",
    "print(index)"
   ]
  },
  {
   "cell_type": "markdown",
   "metadata": {},
   "source": [
    "### Create table in Postgres  \n",
    "PostgresSQL will be used to store the Milvus ID and its corresponding attributes.Here is the description of the attributes:\n",
    "- `sex`\t   Define the gender of the human face: male or female.\n",
    "- `time`\tSpecifies the query time range, e.g. [2021-05-15 00:10:21, 2021-05-16 10:54:12]\n",
    "- `glasses `\tDefines if the human face wears glasses: True or False."
   ]
  },
  {
   "cell_type": "code",
   "execution_count": 34,
   "metadata": {},
   "outputs": [],
   "source": [
    "def create_pg_table(conn,cursor,table_name):\n",
    "    try:       \n",
    "        sql = \"CREATE TABLE \" + table_name + \" (ids bigint, sex char(10), get_time timestamp, is_glasses boolean);\"\n",
    "        cursor.execute(sql)\n",
    "        conn.commit()\n",
    "        print(\"create postgres table!\")\n",
    "    except:\n",
    "        print(\"can't create postgres table\")\n",
    "        "
   ]
  },
  {
   "cell_type": "code",
   "execution_count": 30,
   "metadata": {},
   "outputs": [
    {
     "name": "stdout",
     "output_type": "stream",
     "text": [
      "create postgres table!\n"
     ]
    }
   ],
   "source": [
    "pg_name ='newu'\n",
    "create_pg_table(conn, cursor, pg_name)"
   ]
  },
  {
   "cell_type": "markdown",
   "metadata": {},
   "source": [
    "### Process and Store SIFT1B dataset\n",
    "#### 1.Generate embeddings \n"
   ]
  },
  {
   "cell_type": "code",
   "execution_count": 35,
   "metadata": {},
   "outputs": [],
   "source": [
    "import numpy as np\n",
    "\n",
    "FILE_PATH = '../sift_data/sift_data/bigann_base.bvecs'\n",
    "BASE_LEN = 1000\n",
    "count = 0\n",
    "\n",
    "def load_bvecs_data(fname,base_len,idx):\n",
    "    begin_num = base_len * idx\n",
    "    # print(fname, \": \", begin_num )\n",
    "    x = np.memmap(fname, dtype='uint8', mode='r')\n",
    "    d = x[:4].view('int32')[0]\n",
    "    data =  x.reshape(-1, d + 4)[begin_num:(begin_num+base_len), 4:]   \n",
    "    data = (data + 0.5) / 255\n",
    "    # data = normaliz_data(data)\n",
    "    data = data.tolist()\n",
    "    return data\n"
   ]
  },
  {
   "cell_type": "markdown",
   "metadata": {},
   "source": [
    "### 2.Store data by ID\n",
    "The generated (or specific) IDs and their corresponding attributes "
   ]
  },
  {
   "cell_type": "code",
   "execution_count": 36,
   "metadata": {},
   "outputs": [],
   "source": [
    "import random\n",
    "from faker import Faker\n",
    "import os\n",
    "fake = Faker()\n",
    "\n",
    "def record_txt(ids,fname):\n",
    "    with open(fname,'w+') as f:\n",
    "        for i in range(len(ids)):\n",
    "            sex = random.choice(['female','male'])\n",
    "            get_time = fake.past_datetime(start_date=\"-120d\", tzinfo=None)\n",
    "            is_glasses = random.choice(['True','False'])\n",
    "            line = str(ids[i]) + \"|\" + sex + \"|'\" + str(get_time) + \"'|\" + str(is_glasses) + \"\\n\"\n",
    "            f.write(line)\n",
    "            \n",
    "def copy_data_to_pg(conn, cursor,fname ,table_name):\n",
    "    fname = os.path.join(os.getcwd(),fname)\n",
    "    sql = \"copy \" +  table_name  + \" from '\" + fname + \"' with CSV delimiter '|';\"\n",
    "    print(sql)\n",
    "    try:\n",
    "        cursor.execute(sql)\n",
    "        #cur.copy_expert(sql, open(fname, \"r\"))\n",
    "        conn.commit()\n",
    "        print(\"insert pg sucessful!\")\n",
    "    except Exception as e:\n",
    "        conn.rollback()\n",
    "        print(\"copy data to postgres failed: \", e)\n"
   ]
  },
  {
   "cell_type": "markdown",
   "metadata": {},
   "source": [
    "### 3.Insert Milvus\n",
    "Insert the generated vectors into Milvus and store the ID and corresponding attributes of the vector in Postgres"
   ]
  },
  {
   "cell_type": "code",
   "execution_count": 37,
   "metadata": {},
   "outputs": [
    {
     "name": "stdout",
     "output_type": "stream",
     "text": [
      "copy newu from '/data/t.csv' with CSV delimiter '|';\n",
      "insert pg sucessful!\n",
      "copy newu from '/data/t.csv' with CSV delimiter '|';\n",
      "insert pg sucessful!\n",
      "copy newu from '/data/t.csv' with CSV delimiter '|';\n",
      "insert pg sucessful!\n",
      "copy newu from '/data/t.csv' with CSV delimiter '|';\n",
      "insert pg sucessful!\n",
      "copy newu from '/data/t.csv' with CSV delimiter '|';\n",
      "insert pg sucessful!\n",
      "copy newu from '/data/t.csv' with CSV delimiter '|';\n",
      "insert pg sucessful!\n",
      "copy newu from '/data/t.csv' with CSV delimiter '|';\n",
      "insert pg sucessful!\n",
      "copy newu from '/data/t.csv' with CSV delimiter '|';\n",
      "insert pg sucessful!\n",
      "copy newu from '/data/t.csv' with CSV delimiter '|';\n",
      "insert pg sucessful!\n",
      "copy newu from '/data/t.csv' with CSV delimiter '|';\n",
      "insert pg sucessful!\n"
     ]
    }
   ],
   "source": [
    "filen = '/data/t.csv'\n",
    "VEC_NUM = 10000\n",
    "while count < (VEC_NUM // BASE_LEN):\n",
    "    vectors = load_bvecs_data(FILE_PATH,BASE_LEN,count)\n",
    "    vectors_ids = [id for id in range(count*BASE_LEN,(count+1)*BASE_LEN)]\n",
    "    status, ids = milvus.insert(collection_name=collection_name, records=vectors, ids=vectors_ids)\n",
    "    record_txt(ids,filen)\n",
    "    copy_data_to_pg(conn, cursor,filen ,pg_name)\n",
    "    count =count + 1"
   ]
  },
  {
   "cell_type": "markdown",
   "metadata": {},
   "source": [
    "###  Search in Milvus\n",
    "After completing the import of data, you can customize the conditions for the query. "
   ]
  },
  {
   "cell_type": "code",
   "execution_count": 38,
   "metadata": {},
   "outputs": [],
   "source": [
    "def load_query_list(fname, query_location):\n",
    "    query_location = int(query_location)\n",
    "    x = np.memmap(fname, dtype='uint8', mode='r')\n",
    "    d = x[:4].view('int32')[0]\n",
    "    data =  x.reshape(-1, d + 4)[query_location:(query_location+1), 4:]\n",
    "    data = (data + 0.5) / 255\n",
    "    query_vec = data.tolist()\n",
    "    return query_vec"
   ]
  },
  {
   "cell_type": "markdown",
   "metadata": {},
   "source": [
    "### Search the similarity query\n",
    "After loading the data, we can do similarity search. First, the query statement is converted into a vector and then searched in Milvus. milvus will return the similarity id and distance, and then find out the corresponding attributes in Postgres based on the resulting id.\n",
    "Finally, the query results are displayed based on the Id and distance"
   ]
  },
  {
   "cell_type": "code",
   "execution_count": 62,
   "metadata": {},
   "outputs": [],
   "source": [
    "TOP_K = 10\n",
    "DISTANCE_THRESHOLD = 1\n",
    "collection_name = 'newu'\n",
    "def search_in_milvus(vector,milvus):\n",
    "    output_ids = []\n",
    "    output_distance = []\n",
    "    _param = {'nprobe': 64}\n",
    "    status, results = milvus.search(collection_name = collection_name,query_records=vector, top_k=TOP_K, params=_param)\n",
    "    #print(status, results[0][0].id)\n",
    "    for result in results:\n",
    "        #print(result)\n",
    "        for i in range(TOP_K):\n",
    "           # if result[i].distance < DISTANCE_THRESHOLD:\n",
    "            output_ids.append(result[i].id)\n",
    "            output_distance.append(result[i].distance) \n",
    "    return  output_ids,output_distance"
   ]
  },
  {
   "cell_type": "code",
   "execution_count": 60,
   "metadata": {},
   "outputs": [],
   "source": [
    "def search_in_pg(conn,cursor,result_ids,result_distance,sex,time,glasses):\n",
    "    sql1 = str(result_ids[0])\n",
    "    i = 1\n",
    "    while i < len(result_ids):\n",
    "        sql1 = sql1 + \",\" + str(result_ids[i])\n",
    "        i = i + 1\n",
    "    sql = \"select * from \" + pg_name + \" where ids in (\" + sql1 + \") and sex='\" + sex + \"' and get_time between '\" + time[0] + \"' and '\" + time[1] + \"' and is_glasses='\" + str(glasses) + \"';\"\n",
    "\n",
    "    try:\n",
    "        cursor.execute(sql)\n",
    "        rows=cursor.fetchall()\n",
    "        # print(\"search sucessful!\")\n",
    "        return rows\n",
    "    except:\n",
    "        print(\"search faild!\")"
   ]
  },
  {
   "cell_type": "code",
   "execution_count": 59,
   "metadata": {},
   "outputs": [],
   "source": [
    "def merge_rows_distance(rows,ids,distance):\n",
    "    new_results = []\n",
    "    if len(rows)>0:\n",
    "        #print(len(rows))\n",
    "        for row in rows:\n",
    "            index_flag = ids.index(row[0])\n",
    "            temp = [row[0]] + list(row[1:5]) + [distance[index_flag]]\n",
    "            new_results.append(temp)\n",
    "        new_results = np.array(new_results)\n",
    "        #print(new_results)\n",
    "        sort_arg = np.argsort(new_results[:,4])\n",
    "        #print(sort_arg)\n",
    "        new_results = new_results[sort_arg].tolist()\n",
    "        print(\"\\nids                 sex         time              glasses  distance\")\n",
    "        for new_result in new_results:\n",
    "            print( new_result[0], \"\\t\", new_result[1], new_result[2], \"\\t\", new_result[3],\"\\t\", new_result[4])\n",
    "    else:\n",
    "        print(\"no result\")"
   ]
  },
  {
   "cell_type": "markdown",
   "metadata": {},
   "source": [
    "### Search Results\n",
    "Given a case where the attributes are respectively as follows, perform a query for similar vectors that are consistent with the attributes"
   ]
  },
  {
   "cell_type": "code",
   "execution_count": 53,
   "metadata": {},
   "outputs": [],
   "source": [
    "time_insert = []\n",
    "sex =\"male\"\n",
    "glasses = \"True\"\n",
    "num =\"10\"\n",
    "temp = \"[2021-03-23 07:49:42 , 2021-03-26 01:00:13 ]\"\n",
    "time_insert.append(temp[1:20])\n",
    "time_insert.append(temp[22:41])"
   ]
  },
  {
   "cell_type": "code",
   "execution_count": 63,
   "metadata": {},
   "outputs": [
    {
     "name": "stdout",
     "output_type": "stream",
     "text": [
      "\n",
      "ids                 sex         time              glasses  distance\n",
      "9395 \t male       2021-03-24 07:49:42 \t True \t 2.0576701164245605\n",
      "9425 \t male       2021-03-25 01:00:13 \t True \t 2.07944655418396\n"
     ]
    }
   ],
   "source": [
    "QUERY_PATH = '../sift_data/sift_data/bigann_query.bvecs'\n",
    "query_location = num\n",
    "query_vec = load_query_list(QUERY_PATH,query_location)\n",
    "result_ids, result_distance = search_in_milvus(query_vec,milvus)\n",
    "rows = search_in_pg(conn,cursor,result_ids, result_distance, sex,time_insert,glasses)\n",
    "merge_rows_distance(rows,result_ids,result_distance)"
   ]
  }
 ],
 "metadata": {
  "kernelspec": {
   "display_name": "Python 3",
   "language": "python",
   "name": "python3"
  },
  "language_info": {
   "codemirror_mode": {
    "name": "ipython",
    "version": 3
   },
   "file_extension": ".py",
   "mimetype": "text/x-python",
   "name": "python",
   "nbconvert_exporter": "python",
   "pygments_lexer": "ipython3",
   "version": "3.7.4"
  }
 },
 "nbformat": 4,
 "nbformat_minor": 4
}
