{
 "cells": [
  {
   "cell_type": "markdown",
   "id": "5525a271",
   "metadata": {},
   "source": [
    "# Recall service in recommendation system"
   ]
  },
  {
   "cell_type": "markdown",
   "id": "0223ff80",
   "metadata": {},
   "source": [
    "In this example, we implement the recall function in the recommendation system by importing movie vectors to milvus, extracting user features using model of PaddlePaddle, and then querying in the Milvus and Redis. Next, let's go through the codes together."
   ]
  },
  {
   "cell_type": "markdown",
   "id": "6b4edf8a",
   "metadata": {},
   "source": [
    "## Data\n",
    "In this project, we use [MovieLens 1M](https://grouplens.org/datasets/movielens/1m/). This dataset contains 1,000,209 anonymous ratings of approximately 3,900 movies made by 6,040 MovieLens users. \n",
    "We use the following files:\n",
    "- movies.dat: Contains movie information.   \n",
    "MovieID::Title::Genres   \n",
    "\n",
    " - Titles are identical to titles provided by the IMDB (including\n",
    "  year of release)\n",
    " - Genres are pipe-separated\n",
    "\n",
    " - Some MovieIDs do not correspond to a movie due to accidental duplicate\n",
    "  entries and/or test entries\n",
    " - Movies are mostly entered by hand, so errors and inconsistencies may exist\n",
    "\n",
    "- movie_vectors.txt: Contains movie vectors that could be imported to Milvus."
   ]
  },
  {
   "cell_type": "markdown",
   "id": "5ceedfea",
   "metadata": {},
   "source": [
    "## Requirements"
   ]
  },
  {
   "cell_type": "markdown",
   "id": "3dfeb422",
   "metadata": {},
   "source": [
    "1. Python 3.6/3.7\n",
    "2. [Milvus 1.1.0](https://milvus.io/docs/install_milvus.md)\n",
    "3. Redis\n",
    "4. requirements.txt\n",
    "5. Models\n",
    "6. Dataset"
   ]
  },
  {
   "cell_type": "markdown",
   "id": "b436afa7",
   "metadata": {},
   "source": [
    "### Install required python packages"
   ]
  },
  {
   "cell_type": "code",
   "execution_count": null,
   "id": "8d30a0db",
   "metadata": {},
   "outputs": [],
   "source": [
    "pip install -r requirements.txt"
   ]
  },
  {
   "cell_type": "markdown",
   "id": "5b2de997",
   "metadata": {},
   "source": [
    "### Start Milvus Server\n",
    "#### 1. Download Configuration Files"
   ]
  },
  {
   "cell_type": "code",
   "execution_count": null,
   "id": "0d7b546b",
   "metadata": {},
   "outputs": [],
   "source": [
    "!mkdir -p /home/$USER/milvus/conf\n",
    "!cd /home/$USER/milvus/conf\n",
    "!wget https://raw.githubusercontent.com/milvus-io/milvus/v1.1.0/core/conf/demo/server_config.yaml"
   ]
  },
  {
   "cell_type": "markdown",
   "id": "5276e49b",
   "metadata": {},
   "source": [
    "#### 2. Start docker container"
   ]
  },
  {
   "cell_type": "code",
   "execution_count": null,
   "id": "c877e285",
   "metadata": {},
   "outputs": [],
   "source": [
    "!docker run -d --name milvus_cpu_1.1.0 \\\n",
    "-p 19530:19530 \\\n",
    "-p 19121:19121 \\\n",
    "-v /home/$USER/milvus/db:/var/lib/milvus/db \\\n",
    "-v /home/$USER/milvus/conf:/var/lib/milvus/conf \\\n",
    "-v /home/$USER/milvus/logs:/var/lib/milvus/logs \\\n",
    "-v /home/$USER/milvus/wal:/var/lib/milvus/wal \\\n",
    "milvusdb/milvus:1.1.0-cpu-d050721-5e559c"
   ]
  },
  {
   "cell_type": "markdown",
   "id": "a8062bbe",
   "metadata": {},
   "source": [
    "#### 2. Confirm docker status"
   ]
  },
  {
   "cell_type": "code",
   "execution_count": null,
   "id": "9a1b7e4e",
   "metadata": {},
   "outputs": [],
   "source": [
    "! docker logs milvus_cpu_1.1.0"
   ]
  },
  {
   "cell_type": "markdown",
   "id": "4c2d62e7",
   "metadata": {},
   "source": [
    "### Start Redis Server"
   ]
  },
  {
   "cell_type": "code",
   "execution_count": null,
   "id": "b4b9865e",
   "metadata": {},
   "outputs": [],
   "source": [
    "!docker run -d -p 6379:6379 redis"
   ]
  },
  {
   "cell_type": "markdown",
   "id": "cac14f13",
   "metadata": {},
   "source": [
    "### Download pretrained models\n",
    "This model is used to transform input user information into vectors."
   ]
  },
  {
   "cell_type": "code",
   "execution_count": null,
   "id": "b52f00c3",
   "metadata": {
    "scrolled": true
   },
   "outputs": [],
   "source": [
    "!wget https://paddlerec.bj.bcebos.com/aistudio/user_vector.tar.gz --no-check-certificate\n",
    "!mkdir movie_recommender/user_vector_model\n",
    "!tar xf user_vector.tar.gz -C movie_recommender/user_vector_model/\n",
    "!rm user_vector.tar.g"
   ]
  },
  {
   "cell_type": "markdown",
   "id": "1ab3a252",
   "metadata": {},
   "source": [
    "### Download dataset"
   ]
  },
  {
   "cell_type": "code",
   "execution_count": null,
   "id": "39a7facb",
   "metadata": {},
   "outputs": [],
   "source": [
    "# Download movie information\n",
    "!wget -P movie_recommender https://paddlerec.bj.bcebos.com/aistudio/movies.dat --no-check-certificate\n",
    "# Download movie vecotrs\n",
    "!wget -P movie_recommender https://paddlerec.bj.bcebos.com/aistudio/movie_vectors.txt --no-check-certificate"
   ]
  },
  {
   "cell_type": "markdown",
   "id": "090710b4",
   "metadata": {},
   "source": [
    "## Code Overview\n",
    "### Import movie vectors to Milvus\n",
    "#### 1. Connectings to Milvus and redis"
   ]
  },
  {
   "cell_type": "code",
   "execution_count": 77,
   "id": "d8de5e40",
   "metadata": {},
   "outputs": [],
   "source": [
    "from milvus import Milvus, IndexType, MetricType, Status\n",
    "import redis\n",
    "\n",
    "milvus = Milvus(host = '127.0.0.1', port = 19530)\n",
    "r = redis.StrictRedis(host=\"127.0.0.1\", port=6379) "
   ]
  },
  {
   "cell_type": "markdown",
   "id": "a3c114a7",
   "metadata": {},
   "source": [
    "#### 2. Load movie information to Redis"
   ]
  },
  {
   "cell_type": "code",
   "execution_count": null,
   "id": "f56cf19c",
   "metadata": {},
   "outputs": [],
   "source": [
    "import json\n",
    "import codecs\n",
    "\n",
    "#1::Toy Story (1995)::Animation|Children's|Comedy\n",
    "def process_movie(lines, redis_cli):\n",
    "    for line in lines:\n",
    "        if len(line.strip()) == 0:\n",
    "            continue\n",
    "        tmp = line.strip().split(\"::\")\n",
    "        movie_id = tmp[0]\n",
    "        title = tmp[1]\n",
    "        genre_group = tmp[2]\n",
    "        tmp = genre_group.strip().split(\"|\")\n",
    "        genre = tmp\n",
    "        movie_info = {\"movie_id\" : movie_id,\n",
    "                \"title\" : title,\n",
    "                \"genre\" : genre\n",
    "                }\n",
    "        redis_cli.set(\"{}##movie_info\".format(movie_id), json.dumps(movie_info))\n",
    "        \n",
    "with codecs.open(\"movie_recommender/movies.dat\", \"r\",encoding='utf-8',errors='ignore') as f:\n",
    "        lines = f.readlines()\n",
    "        process_movie(lines, r)"
   ]
  },
  {
   "cell_type": "markdown",
   "id": "a54a6046",
   "metadata": {},
   "source": [
    "#### 3. Create the target collection and partition"
   ]
  },
  {
   "cell_type": "code",
   "execution_count": null,
   "id": "ef3ef1f7",
   "metadata": {},
   "outputs": [],
   "source": [
    "TABLE_NAME = 'demo_films'\n",
    "PARTITION_NAME = 'Movie'\n",
    "\n",
    "param = {'collection_name':TABLE_NAME, \n",
    "         'dimension':32, \n",
    "         'index_file_size':2048, \n",
    "         'metric_type':MetricType.L2\n",
    "        }\n",
    "\n",
    "milvus.create_collection(param)\n",
    "milvus.create_partition(TABLE_NAME, PARTITION_NAME)"
   ]
  },
  {
   "cell_type": "markdown",
   "id": "d298372e",
   "metadata": {},
   "source": [
    "#### 4. Get embeddings and IDs\n",
    "The vectors in `movie_vectors.txt` are obtained from the `user_vector_model` downloaded above. So we can directly get the vectors and the IDs by reading the file."
   ]
  },
  {
   "cell_type": "code",
   "execution_count": 34,
   "id": "1aaee36b",
   "metadata": {},
   "outputs": [],
   "source": [
    "def get_vectors():\n",
    "    with codecs.open(\"movie_recommender/movie_vectors.txt\", \"r\", encoding='utf-8', errors='ignore') as f:\n",
    "        lines = f.readlines()\n",
    "    ids = [int(line.split(\":\")[0]) for line in lines]\n",
    "    embeddings = []\n",
    "    for line in lines:\n",
    "        line = line.strip().split(\":\")[1][1:-1]\n",
    "        str_nums = line.split(\",\")\n",
    "        emb = [float(x) for x in str_nums]\n",
    "        embeddings.append(emb)\n",
    "    return ids, embeddings\n",
    "\n",
    "ids, embeddings = get_vectors()"
   ]
  },
  {
   "cell_type": "markdown",
   "id": "3a6140b1",
   "metadata": {},
   "source": [
    "#### 4. Import movie vectors to Milvus\n",
    "Import vectors into the partition **Movie** under the collection **demo_films**."
   ]
  },
  {
   "cell_type": "code",
   "execution_count": 37,
   "id": "4ac4cfff",
   "metadata": {},
   "outputs": [],
   "source": [
    "status = milvus.insert(collection_name=TABLE_NAME, records=embeddings, ids=ids, partition_tag=PATITION_NAME)\n",
    "status[0]"
   ]
  },
  {
   "cell_type": "markdown",
   "id": "e93feb30",
   "metadata": {},
   "source": [
    "### Recall vectors in Milvus\n",
    "#### 1. Genarate user embedding\n",
    "Pass in the gender, age and occupation of the user we want to recommend. **user_vector_model** model will generate the corresponding user vector.\n",
    "Occupation is chosen from the following choices:\n",
    "*  0:  \"other\" or not specified\n",
    "*  1:  \"academic/educator\"\n",
    "*  2:  \"artist\"\n",
    "*  3:  \"clerical/admin\"\n",
    "*  4:  \"college/grad student\"\n",
    "*  5:  \"customer service\"\n",
    "*  6:  \"doctor/health care\"\n",
    "*  7:  \"executive/managerial\"\n",
    "*  8:  \"farmer\"\n",
    "*  9:  \"homemaker\"\n",
    "*  10:  \"K-12 student\"\n",
    "*  11:  \"lawyer\"\n",
    "*  12:  \"programmer\"\n",
    "*  13:  \"retired\"\n",
    "*  14:  \"sales/marketing\"\n",
    "*  15:  \"scientist\"\n",
    "*  16:  \"self-employed\"\n",
    "*  17:  \"technician/engineer\"\n",
    "*  18:  \"tradesman/craftsman\"\n",
    "*  19:  \"unemployed\"\n",
    "*  20:  \"writer\""
   ]
  },
  {
   "cell_type": "code",
   "execution_count": null,
   "id": "1a35a9d4",
   "metadata": {},
   "outputs": [],
   "source": [
    "import numpy as np\n",
    "from paddle_serving_app.local_predict import LocalPredictor\n",
    "\n",
    "class RecallServerServicer(object):\n",
    "    def __init__(self):\n",
    "        self.uv_client = LocalPredictor()\n",
    "        self.uv_client.load_model_config(\"movie_recommender/user_vector_model/serving_server_dir\") \n",
    "        \n",
    "    def hash2(a):\n",
    "        return hash(a) % 1000000\n",
    "\n",
    "    def get_user_vector(self):\n",
    "        dic = {\"userid\": [], \"gender\": [], \"age\": [], \"occupation\": []}\n",
    "        lod = [0]\n",
    "        dic[\"userid\"].append(hash2('0'))\n",
    "        dic[\"gender\"].append(hash2('M'))\n",
    "        dic[\"age\"].append(hash2('23'))\n",
    "        dic[\"occupation\"].append(hash2('6'))\n",
    "        lod.append(1)\n",
    "\n",
    "        dic[\"userid.lod\"] = lod\n",
    "        dic[\"gender.lod\"] = lod\n",
    "        dic[\"age.lod\"] = lod\n",
    "        dic[\"occupation.lod\"] = lod\n",
    "        for key in dic:\n",
    "            dic[key] = np.array(dic[key]).astype(np.int64).reshape(len(dic[key]),1)\n",
    "        fetch_map = self.uv_client.predict(feed=dic, fetch=[\"save_infer_model/scale_0.tmp_1\"], batch=True)\n",
    "        return fetch_map[\"save_infer_model/scale_0.tmp_1\"].tolist()[0]\n",
    "\n",
    "recall = RecallServerServicer()\n",
    "user_vector = recall.get_user_vector()\n",
    "\n",
    "user_vector"
   ]
  },
  {
   "cell_type": "markdown",
   "id": "e15ea6e8",
   "metadata": {},
   "source": [
    "#### 2. Query in Milvus\n",
    "Pass in the user vector, and then recall vectors in the previously imported data collection and partition."
   ]
  },
  {
   "cell_type": "code",
   "execution_count": 104,
   "id": "e4d91d02",
   "metadata": {},
   "outputs": [],
   "source": [
    "TOP_K = 20\n",
    "SEARCH_PARAM = {'nprobe': 20}\n",
    "status, results = milvus.search(collection_name=TABLE_NAME, query_records=[user_vector], top_k=TOP_K, params=SEARCH_PARAM)"
   ]
  },
  {
   "cell_type": "markdown",
   "id": "9c847608",
   "metadata": {},
   "source": [
    "#### 3. Search movie information by IDs"
   ]
  },
  {
   "cell_type": "code",
   "execution_count": 106,
   "id": "90a56325",
   "metadata": {},
   "outputs": [
    {
     "data": {
      "text/plain": [
       "['{\"movie_id\": \"760\", \"title\": \"Stalingrad (1993)\", \"genre\": [\"War\"]}',\n",
       " '{\"movie_id\": \"1350\", \"title\": \"Omen, The (1976)\", \"genre\": [\"Horror\"]}',\n",
       " '{\"movie_id\": \"1258\", \"title\": \"Shining, The (1980)\", \"genre\": [\"Horror\"]}',\n",
       " '{\"movie_id\": \"632\", \"title\": \"Land and Freedom (Tierra y libertad) (1995)\", \"genre\": [\"War\"]}',\n",
       " '{\"movie_id\": \"3007\", \"title\": \"American Movie (1999)\", \"genre\": [\"Documentary\"]}',\n",
       " '{\"movie_id\": \"2086\", \"title\": \"One Magic Christmas (1985)\", \"genre\": [\"Drama\", \"Fantasy\"]}',\n",
       " '{\"movie_id\": \"3920\", \"title\": \"Faraway, So Close (In Weiter Ferne, So Nah!) (1993)\", \"genre\": [\"Drama\", \"Fantasy\"]}',\n",
       " '{\"movie_id\": \"1303\", \"title\": \"Man Who Would Be King, The (1975)\", \"genre\": [\"Adventure\"]}',\n",
       " '{\"movie_id\": \"1051\", \"title\": \"Trees Lounge (1996)\", \"genre\": [\"Drama\"]}',\n",
       " '{\"movie_id\": \"1605\", \"title\": \"Excess Baggage (1997)\", \"genre\": [\"Adventure\", \"Romance\"]}',\n",
       " '{\"movie_id\": \"652\", \"title\": \"301, 302 (1995)\", \"genre\": [\"Mystery\"]}',\n",
       " '{\"movie_id\": \"1275\", \"title\": \"Highlander (1986)\", \"genre\": [\"Action\", \"Adventure\"]}',\n",
       " '{\"movie_id\": \"1126\", \"title\": \"Drop Dead Fred (1991)\", \"genre\": [\"Comedy\", \"Fantasy\"]}',\n",
       " '{\"movie_id\": \"792\", \"title\": \"Hungarian Fairy Tale, A (1987)\", \"genre\": [\"Fantasy\"]}',\n",
       " '{\"movie_id\": \"2228\", \"title\": \"Mountain Eagle, The (1926)\", \"genre\": [\"Drama\"]}',\n",
       " '{\"movie_id\": \"2659\", \"title\": \"It Came from Hollywood (1982)\", \"genre\": [\"Comedy\", \"Documentary\"]}',\n",
       " '{\"movie_id\": \"2545\", \"title\": \"Relax... It\\'s Just Sex (1998)\", \"genre\": [\"Comedy\"]}',\n",
       " '{\"movie_id\": \"1289\", \"title\": \"Koyaanisqatsi (1983)\", \"genre\": [\"Documentary\", \"War\"]}',\n",
       " '{\"movie_id\": \"3743\", \"title\": \"Boys and Girls (2000)\", \"genre\": [\"Comedy\", \"Romance\"]}',\n",
       " '{\"movie_id\": \"137\", \"title\": \"Man of the Year (1995)\", \"genre\": [\"Documentary\"]}']"
      ]
     },
     "execution_count": 106,
     "metadata": {},
     "output_type": "execute_result"
    }
   ],
   "source": [
    "recall_results = []\n",
    "for x in results[0]:\n",
    "    recall_results.append(r.get(\"{}##movie_info\".format(x.id)).decode('utf-8'))\n",
    "recall_results"
   ]
  },
  {
   "cell_type": "markdown",
   "id": "d4f7e3c5",
   "metadata": {},
   "source": [
    "## Start rank service"
   ]
  },
  {
   "cell_type": "markdown",
   "id": "843120ee",
   "metadata": {},
   "source": [
    "After completing the recall service, the results can be further sorted using the **movie_recommender** model, and then the movies with high similarity scores can be recommended to users. You can try this deployable recommendation system by [quick start](QUICK_START.md)."
   ]
  }
 ],
 "metadata": {
  "kernelspec": {
   "display_name": "Python 3",
   "language": "python",
   "name": "python3"
  },
  "language_info": {
   "codemirror_mode": {
    "name": "ipython",
    "version": 3
   },
   "file_extension": ".py",
   "mimetype": "text/x-python",
   "name": "python",
   "nbconvert_exporter": "python",
   "pygments_lexer": "ipython3",
   "version": "3.7.6"
  }
 },
 "nbformat": 4,
 "nbformat_minor": 5
}
