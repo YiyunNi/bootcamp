{
 "cells": [
  {
   "cell_type": "markdown",
   "id": "52202dda",
   "metadata": {},
   "source": [
    "# Molecular Similarity Search\n",
    "In this example, we try to do similarity retrieval of molecular formulae by generating molecular fingerprints using RDKit, and then search them in Milvus to finally return the most similar result to the target molecular formula."
   ]
  },
  {
   "cell_type": "markdown",
   "id": "8f634caa",
   "metadata": {},
   "source": [
    "## Data\n",
    "We already prepared a SMILE file containing 10,000 molecular formula [test_1w.smi](./smiles-data) form [pubchem](ftp://ftp.ncbi.nlm.nih.gov/pubchem/Compound/CURRENT-Full/SDF). The file content has two columns, SMILES and ID, such as the following:  \n",
    "[O-]C(=O)CC(C[N+](C)(C)C)OC(=O)C\t1  \n",
    "OC(=O)CC(C[N+](C)(C)C)OC(=O)C\t2  \n",
    "OC1C=CC=C(C1O)C(=O)O\t3  \n",
    "CC(CN)O\t4  \n",
    "NCC(=O)COP(=O)(O)O\t5"
   ]
  },
  {
   "cell_type": "markdown",
   "id": "e78f436b",
   "metadata": {},
   "source": [
    "Before running this notebook, you need to install [conda](https://docs.conda.io/projects/conda/en/latest/user-guide/install/index.html) or [miniconda](https://docs.conda.io/en/latest/miniconda.html) locally, because we will use conda to install [RDKit](https://www.rdkit.org/docs/Install.html), then activate a new conda environment to run this notebook. Note that python version cannot above 3.8, my environment is python3.7."
   ]
  },
  {
   "cell_type": "markdown",
   "id": "c4b61385",
   "metadata": {},
   "source": [
    "## Requirements\n",
    "#### 1. Install RDkit\n",
    "Install RDKit with Conda."
   ]
  },
  {
   "cell_type": "code",
   "execution_count": null,
   "id": "ac36625f",
   "metadata": {},
   "outputs": [],
   "source": [
    "! conda install -c rdkit rdkit -y"
   ]
  },
  {
   "cell_type": "markdown",
   "id": "00afa67a",
   "metadata": {},
   "source": [
    "#### 2. Install python packages\n",
    "Install the required python package with \"requirements.txt\"."
   ]
  },
  {
   "cell_type": "code",
   "execution_count": 10,
   "id": "113c1e44",
   "metadata": {},
   "outputs": [
    {
     "name": "stdout",
     "output_type": "stream",
     "text": [
      "Requirement already satisfied: numpy in /Users/chenshiyu/miniconda3/lib/python3.8/site-packages (from -r requirements.txt (line 1)) (1.20.2)\n",
      "Requirement already satisfied: pymilvus==1.0.1 in /Users/chenshiyu/miniconda3/lib/python3.8/site-packages (from -r requirements.txt (line 2)) (1.0.1)\n",
      "Requirement already satisfied: redis in /Users/chenshiyu/miniconda3/lib/python3.8/site-packages (from -r requirements.txt (line 3)) (3.5.3)\n",
      "Requirement already satisfied: pymysql in /Users/chenshiyu/miniconda3/lib/python3.8/site-packages (from -r requirements.txt (line 4)) (1.0.2)\n",
      "Requirement already satisfied: ipyplot in /Users/chenshiyu/miniconda3/lib/python3.8/site-packages (from -r requirements.txt (line 5)) (1.1.0)\n",
      "Requirement already satisfied: ujson>=1.35 in /Users/chenshiyu/miniconda3/lib/python3.8/site-packages (from pymilvus==1.0.1->-r requirements.txt (line 2)) (4.0.2)\n",
      "Requirement already satisfied: grpcio-tools>=1.22.0 in /Users/chenshiyu/miniconda3/lib/python3.8/site-packages (from pymilvus==1.0.1->-r requirements.txt (line 2)) (1.37.1)\n",
      "Requirement already satisfied: grpcio>=1.22.0 in /Users/chenshiyu/miniconda3/lib/python3.8/site-packages (from pymilvus==1.0.1->-r requirements.txt (line 2)) (1.37.1)\n",
      "Requirement already satisfied: requests>=2.22.0 in /Users/chenshiyu/miniconda3/lib/python3.8/site-packages (from pymilvus==1.0.1->-r requirements.txt (line 2)) (2.24.0)\n",
      "Requirement already satisfied: pillow in /Users/chenshiyu/miniconda3/lib/python3.8/site-packages (from ipyplot->-r requirements.txt (line 5)) (8.2.0)\n",
      "Requirement already satisfied: IPython in /Users/chenshiyu/miniconda3/lib/python3.8/site-packages (from ipyplot->-r requirements.txt (line 5)) (7.23.1)\n",
      "Requirement already satisfied: shortuuid in /Users/chenshiyu/miniconda3/lib/python3.8/site-packages (from ipyplot->-r requirements.txt (line 5)) (1.0.1)\n",
      "Requirement already satisfied: protobuf<4.0dev,>=3.5.0.post1 in /Users/chenshiyu/miniconda3/lib/python3.8/site-packages (from grpcio-tools>=1.22.0->pymilvus==1.0.1->-r requirements.txt (line 2)) (3.16.0)\n",
      "Requirement already satisfied: setuptools in /Users/chenshiyu/miniconda3/lib/python3.8/site-packages (from grpcio-tools>=1.22.0->pymilvus==1.0.1->-r requirements.txt (line 2)) (50.3.1.post20201107)\n",
      "Requirement already satisfied: six>=1.5.2 in /Users/chenshiyu/miniconda3/lib/python3.8/site-packages (from grpcio>=1.22.0->pymilvus==1.0.1->-r requirements.txt (line 2)) (1.15.0)\n",
      "Requirement already satisfied: chardet<4,>=3.0.2 in /Users/chenshiyu/miniconda3/lib/python3.8/site-packages (from requests>=2.22.0->pymilvus==1.0.1->-r requirements.txt (line 2)) (3.0.4)\n",
      "Requirement already satisfied: urllib3!=1.25.0,!=1.25.1,<1.26,>=1.21.1 in /Users/chenshiyu/miniconda3/lib/python3.8/site-packages (from requests>=2.22.0->pymilvus==1.0.1->-r requirements.txt (line 2)) (1.25.11)\n",
      "Requirement already satisfied: certifi>=2017.4.17 in /Users/chenshiyu/miniconda3/lib/python3.8/site-packages (from requests>=2.22.0->pymilvus==1.0.1->-r requirements.txt (line 2)) (2020.6.20)\n",
      "Requirement already satisfied: idna<3,>=2.5 in /Users/chenshiyu/miniconda3/lib/python3.8/site-packages (from requests>=2.22.0->pymilvus==1.0.1->-r requirements.txt (line 2)) (2.10)\n",
      "Requirement already satisfied: backcall in /Users/chenshiyu/miniconda3/lib/python3.8/site-packages (from IPython->ipyplot->-r requirements.txt (line 5)) (0.2.0)\n",
      "Requirement already satisfied: jedi>=0.16 in /Users/chenshiyu/miniconda3/lib/python3.8/site-packages (from IPython->ipyplot->-r requirements.txt (line 5)) (0.18.0)\n",
      "Requirement already satisfied: decorator in /Users/chenshiyu/miniconda3/lib/python3.8/site-packages (from IPython->ipyplot->-r requirements.txt (line 5)) (5.0.7)\n",
      "Requirement already satisfied: pickleshare in /Users/chenshiyu/miniconda3/lib/python3.8/site-packages (from IPython->ipyplot->-r requirements.txt (line 5)) (0.7.5)\n",
      "Requirement already satisfied: prompt-toolkit!=3.0.0,!=3.0.1,<3.1.0,>=2.0.0 in /Users/chenshiyu/miniconda3/lib/python3.8/site-packages (from IPython->ipyplot->-r requirements.txt (line 5)) (3.0.18)\n",
      "Requirement already satisfied: matplotlib-inline in /Users/chenshiyu/miniconda3/lib/python3.8/site-packages (from IPython->ipyplot->-r requirements.txt (line 5)) (0.1.2)\n",
      "Requirement already satisfied: appnope; sys_platform == \"darwin\" in /Users/chenshiyu/miniconda3/lib/python3.8/site-packages (from IPython->ipyplot->-r requirements.txt (line 5)) (0.1.2)\n",
      "Requirement already satisfied: pexpect>4.3; sys_platform != \"win32\" in /Users/chenshiyu/miniconda3/lib/python3.8/site-packages (from IPython->ipyplot->-r requirements.txt (line 5)) (4.8.0)\n",
      "Requirement already satisfied: traitlets>=4.2 in /Users/chenshiyu/miniconda3/lib/python3.8/site-packages (from IPython->ipyplot->-r requirements.txt (line 5)) (5.0.5)\n",
      "Requirement already satisfied: pygments in /Users/chenshiyu/miniconda3/lib/python3.8/site-packages (from IPython->ipyplot->-r requirements.txt (line 5)) (2.9.0)\n",
      "Requirement already satisfied: parso<0.9.0,>=0.8.0 in /Users/chenshiyu/miniconda3/lib/python3.8/site-packages (from jedi>=0.16->IPython->ipyplot->-r requirements.txt (line 5)) (0.8.2)\n",
      "Requirement already satisfied: wcwidth in /Users/chenshiyu/miniconda3/lib/python3.8/site-packages (from prompt-toolkit!=3.0.0,!=3.0.1,<3.1.0,>=2.0.0->IPython->ipyplot->-r requirements.txt (line 5)) (0.2.5)\n",
      "Requirement already satisfied: ptyprocess>=0.5 in /Users/chenshiyu/miniconda3/lib/python3.8/site-packages (from pexpect>4.3; sys_platform != \"win32\"->IPython->ipyplot->-r requirements.txt (line 5)) (0.7.0)\n",
      "Requirement already satisfied: ipython-genutils in /Users/chenshiyu/miniconda3/lib/python3.8/site-packages (from traitlets>=4.2->IPython->ipyplot->-r requirements.txt (line 5)) (0.2.0)\n"
     ]
    }
   ],
   "source": [
    "! pip install -r requirements.txt"
   ]
  },
  {
   "cell_type": "markdown",
   "id": "5cd9e213",
   "metadata": {},
   "source": [
    "## Start Milvus\n",
    "Start Docker container witout mapping the files, if you want to map the paths to the local files to the container, you can refer to [Install and Start Milvus](https://milvus.io/docs/v1.0.0/milvus_docker-cpu.md)."
   ]
  },
  {
   "cell_type": "code",
   "execution_count": 21,
   "id": "9a11c5e5",
   "metadata": {},
   "outputs": [
    {
     "name": "stdout",
     "output_type": "stream",
     "text": [
      "Unable to find image 'milvusdb/milvus:1.1.0-cpu-d050721-5e559c' locally\n",
      "1.1.0-cpu-d050721-5e559c: Pulling from milvusdb/milvus\n",
      "\n",
      "\u001b[1B3b07cdd5: Pulling fs layer \n",
      "\u001b[1B21c63ac5: Pulling fs layer \n",
      "\u001b[1Ba14988df: Pulling fs layer \n",
      "\u001b[1BDigest: sha256:cad42699d1c0943fa618eb6d293eb28b2e223fd1410a83717f81b0d5c7698059[2A\u001b[2K\u001b[4A\u001b[2K\u001b[3A\u001b[2K\u001b[2A\u001b[2K\u001b[4A\u001b[2K\u001b[4A\u001b[2K\u001b[2A\u001b[2K\u001b[3A\u001b[2K\u001b[3A\u001b[2K\u001b[4A\u001b[2K\u001b[3A\u001b[2K\u001b[4A\u001b[2K\u001b[2A\u001b[2K\u001b[3A\u001b[2K\u001b[4A\u001b[2K\u001b[2A\u001b[2K\u001b[2A\u001b[2K\u001b[3A\u001b[2K\u001b[4A\u001b[2K\u001b[2A\u001b[2K\u001b[3A\u001b[2K\u001b[2A\u001b[2K\u001b[4A\u001b[2K\u001b[2A\u001b[2K\u001b[4A\u001b[2K\u001b[2A\u001b[2K\u001b[3A\u001b[2K\u001b[4A\u001b[2K\u001b[2A\u001b[2K\u001b[3A\u001b[2K\u001b[4A\u001b[2K\u001b[2A\u001b[2K\u001b[2A\u001b[2K\u001b[4A\u001b[2K\u001b[3A\u001b[2K\u001b[2A\u001b[2K\u001b[4A\u001b[2K\u001b[3A\u001b[2K\u001b[2A\u001b[2K\u001b[4A\u001b[2K\u001b[2A\u001b[2K\u001b[3A\u001b[2K\u001b[2A\u001b[2K\u001b[3A\u001b[2K\u001b[2A\u001b[2K\u001b[4A\u001b[2K\u001b[2A\u001b[2K\u001b[3A\u001b[2K\u001b[4A\u001b[2K\u001b[2A\u001b[2K\u001b[2A\u001b[2K\u001b[4A\u001b[2K\u001b[3A\u001b[2K\u001b[2A\u001b[2K\u001b[2A\u001b[2K\u001b[3A\u001b[2K\u001b[2A\u001b[2K\u001b[4A\u001b[2K\u001b[2A\u001b[2K\u001b[3A\u001b[2K\u001b[4A\u001b[2K\u001b[2A\u001b[2K\u001b[3A\u001b[2K\u001b[2A\u001b[2K\u001b[4A\u001b[2K\u001b[2A\u001b[2K\u001b[2A\u001b[2K\u001b[4A\u001b[2K\u001b[2A\u001b[2K\u001b[3A\u001b[2K\u001b[2A\u001b[2K\u001b[2A\u001b[2K\u001b[4A\u001b[2K\u001b[3A\u001b[2K\u001b[2A\u001b[2K\u001b[4A\u001b[2K\u001b[2A\u001b[2K\u001b[3A\u001b[2K\u001b[2A\u001b[2K\u001b[4A\u001b[2K\u001b[2A\u001b[2K\u001b[3A\u001b[2K\u001b[4A\u001b[2K\u001b[2A\u001b[2K\u001b[2A\u001b[2K\u001b[3A\u001b[2K\u001b[2A\u001b[2K\u001b[4A\u001b[2K\u001b[2A\u001b[2K\u001b[4A\u001b[2K\u001b[2A\u001b[2K\u001b[2A\u001b[2K\u001b[3A\u001b[2K\u001b[4A\u001b[2K\u001b[2A\u001b[2K\u001b[3A\u001b[2K\u001b[2A\u001b[2K\u001b[4A\u001b[2K\u001b[2A\u001b[2K\u001b[4A\u001b[2K\u001b[3A\u001b[2K\u001b[2A\u001b[2K\u001b[2A\u001b[2K\u001b[4A\u001b[2K\u001b[2A\u001b[2K\u001b[3A\u001b[2K\u001b[2A\u001b[2K\u001b[2A\u001b[2K\u001b[4A\u001b[2K\u001b[3A\u001b[2K\u001b[2A\u001b[2K\u001b[2A\u001b[2K\u001b[4A\u001b[2K\u001b[2A\u001b[2K\u001b[3A\u001b[2K\u001b[2A\u001b[2K\u001b[2A\u001b[2K\u001b[4A\u001b[2K\u001b[3A\u001b[2K\u001b[2A\u001b[2K\u001b[2A\u001b[2K\u001b[2A\u001b[2K\u001b[4A\u001b[2K\u001b[3A\u001b[2K\u001b[2A\u001b[2K\u001b[2A\u001b[2K\u001b[4A\u001b[2K\u001b[2A\u001b[2K\u001b[3A\u001b[2K\u001b[2A\u001b[2K\u001b[4A\u001b[2K\u001b[2A\u001b[2K\u001b[2A\u001b[2K\u001b[3A\u001b[2K\u001b[2A\u001b[2K\u001b[4A\u001b[2K\u001b[3A\u001b[2K\u001b[4A\u001b[2K\u001b[3A\u001b[2K\u001b[4A\u001b[2K\u001b[4A\u001b[2K\u001b[3A\u001b[2K\u001b[4A\u001b[2K\u001b[1A\u001b[2K\u001b[1A\u001b[2K\u001b[4A\u001b[2K\u001b[1A\u001b[2K\u001b[1A\u001b[2K\u001b[1A\u001b[2K\u001b[1A\u001b[2K\u001b[4A\u001b[2K\u001b[1A\u001b[2K\u001b[1A\u001b[2K\u001b[4A\u001b[2K\u001b[3A\u001b[2K\u001b[4A\u001b[2K\u001b[3A\u001b[2K\u001b[1A\u001b[2K\u001b[4A\u001b[2K\u001b[4A\u001b[2K\u001b[3A\u001b[2K\u001b[4A\u001b[2K\u001b[3A\u001b[2K\u001b[4A\u001b[2K\u001b[4A\u001b[2K\u001b[3A\u001b[2K\u001b[4A\u001b[2K\u001b[3A\u001b[2K\u001b[4A\u001b[2K\u001b[4A\u001b[2K\u001b[3A\u001b[2K\u001b[4A\u001b[2K\u001b[3A\u001b[2K\u001b[4A\u001b[2K\u001b[4A\u001b[2K\u001b[3A\u001b[2K\u001b[4A\u001b[2K\u001b[4A\u001b[2K\u001b[3A\u001b[2K\u001b[4A\u001b[2K\u001b[3A\u001b[2K\u001b[4A\u001b[2K\u001b[4A\u001b[2K\u001b[3A\u001b[2K\u001b[3A\u001b[2K\u001b[4A\u001b[2K\u001b[4A\u001b[2K\u001b[3A\u001b[2K\u001b[4A\u001b[2K\u001b[4A\u001b[2K\u001b[3A\u001b[2K\u001b[4A\u001b[2K\u001b[3A\u001b[2K\u001b[4A\u001b[2K\u001b[3A\u001b[2K\u001b[3A\u001b[2K\u001b[3A\u001b[2K\u001b[4A\u001b[2K\u001b[3A\u001b[2K\u001b[4A\u001b[2K\u001b[3A\u001b[2K\u001b[4A\u001b[2K\u001b[3A\u001b[2KDownloading  34.21MB/146MB\u001b[4A\u001b[2K\u001b[3A\u001b[2K\u001b[4A\u001b[2K\u001b[3A\u001b[2K\u001b[4A\u001b[2K\u001b[3A\u001b[2K\u001b[4A\u001b[2K\u001b[3A\u001b[2K\u001b[4A\u001b[2K\u001b[3A\u001b[2K\u001b[4A\u001b[2K\u001b[3A\u001b[2K\u001b[4A\u001b[2K\u001b[3A\u001b[2K\u001b[4A\u001b[2K\u001b[3A\u001b[2K\u001b[4A\u001b[2K\u001b[3A\u001b[2K\u001b[4A\u001b[2K\u001b[3A\u001b[2K\u001b[4A\u001b[2K\u001b[3A\u001b[2K\u001b[4A\u001b[2K\u001b[3A\u001b[2K\u001b[4A\u001b[2K\u001b[3A\u001b[2K\u001b[3A\u001b[2K\u001b[4A\u001b[2K\u001b[4A\u001b[2K\u001b[3A\u001b[2K\u001b[3A\u001b[2K\u001b[4A\u001b[2K\u001b[3A\u001b[2KDownloading  43.33MB/146MB\u001b[4A\u001b[2K\u001b[4A\u001b[2K\u001b[3A\u001b[2K\u001b[3A\u001b[2K\u001b[4A\u001b[2K\u001b[4A\u001b[2K\u001b[4A\u001b[2K\u001b[3A\u001b[2K\u001b[4A\u001b[2K\u001b[4A\u001b[2K\u001b[3A\u001b[2K\u001b[4A\u001b[2K\u001b[3A\u001b[2K\u001b[4A\u001b[2K\u001b[3A\u001b[2K\u001b[4A\u001b[2K\u001b[3A\u001b[2K\u001b[4A\u001b[2K\u001b[3A\u001b[2K\u001b[4A\u001b[2K\u001b[3A\u001b[2K\u001b[4A\u001b[2K\u001b[4A\u001b[2K\u001b[4A\u001b[2K\u001b[4A\u001b[2K\u001b[3A\u001b[2K\u001b[4A\u001b[2K\u001b[3A\u001b[2K\u001b[4A\u001b[2K\u001b[3A\u001b[2K\u001b[4A\u001b[2K\u001b[3A\u001b[2K\u001b[4A\u001b[2K\u001b[3A\u001b[2K\u001b[4A\u001b[2K\u001b[4A\u001b[2K\u001b[3A\u001b[2K\u001b[4A\u001b[2K\u001b[4A\u001b[2K\u001b[3A\u001b[2K\u001b[4A\u001b[2K\u001b[3A\u001b[2K\u001b[4A\u001b[2K\u001b[3A\u001b[2K\u001b[4A\u001b[2K\u001b[3A\u001b[2K\u001b[4A\u001b[2K\u001b[3A\u001b[2K\u001b[4A\u001b[2K\u001b[3A\u001b[2K\u001b[4A\u001b[2KDownloading  71.72MB/76.1MB\u001b[3A\u001b[2K\u001b[4A\u001b[2K\u001b[3A\u001b[2K\u001b[4A\u001b[2K\u001b[3A\u001b[2K\u001b[4A\u001b[2K\u001b[3A\u001b[2K\u001b[4A\u001b[2K\u001b[3A\u001b[2K\u001b[4A\u001b[2K\u001b[3A\u001b[2K\u001b[4A\u001b[2K\u001b[3A\u001b[2K\u001b[4A\u001b[2K\u001b[4A\u001b[2K\u001b[3A\u001b[2K\u001b[4A\u001b[2K\u001b[4A\u001b[2K\u001b[4A\u001b[2K\u001b[3A\u001b[2K\u001b[4A\u001b[2K\u001b[4A\u001b[2K\u001b[4A\u001b[2K\u001b[3A\u001b[2K\u001b[4A\u001b[2K\u001b[4A\u001b[2K\u001b[4A\u001b[2K\u001b[4A\u001b[2K\u001b[4A\u001b[2K\u001b[3A\u001b[2K\u001b[4A\u001b[2K\u001b[4A\u001b[2K\u001b[4A\u001b[2K\u001b[3A\u001b[2K\u001b[4A\u001b[2K\u001b[4A\u001b[2K\u001b[4A\u001b[2K\u001b[4A\u001b[2K\u001b[3A\u001b[2K\u001b[4A\u001b[2K\u001b[3A\u001b[2K\u001b[4A\u001b[2K\u001b[4A\u001b[2K\u001b[3A\u001b[2K\u001b[4A\u001b[2K\u001b[3A\u001b[2K\u001b[4A\u001b[2K\u001b[4A\u001b[2K\u001b[3A\u001b[2K\u001b[4A\u001b[2K\u001b[4A\u001b[2K\u001b[4A\u001b[2K\u001b[3A\u001b[2K\u001b[4A\u001b[2K\u001b[3A\u001b[2K\u001b[4A\u001b[2K\u001b[3A\u001b[2K\u001b[4A\u001b[2K\u001b[4A\u001b[2K\u001b[3A\u001b[2K\u001b[4A\u001b[2K\u001b[4A\u001b[2K\u001b[4A\u001b[2K\u001b[3A\u001b[2K\u001b[4A\u001b[2K\u001b[3A\u001b[2K\u001b[3A\u001b[2K\u001b[3A\u001b[2K\u001b[3A\u001b[2K\u001b[3A\u001b[2K\u001b[3A\u001b[2K\u001b[3A\u001b[2K\u001b[3A\u001b[2K\u001b[3A\u001b[2K\u001b[3A\u001b[2K\u001b[3A\u001b[2K\u001b[3A\u001b[2K\u001b[3A\u001b[2K\u001b[3A\u001b[2K\u001b[3A\u001b[2K\u001b[3A\u001b[2K\u001b[3A\u001b[2K\u001b[3A\u001b[2K\u001b[3A\u001b[2K\u001b[3A\u001b[2K\u001b[3A\u001b[2K\u001b[3A\u001b[2K\u001b[3A\u001b[2K\u001b[3A\u001b[2K\u001b[3A\u001b[2K\u001b[3A\u001b[2K\u001b[3A\u001b[2K\u001b[3A\u001b[2K\u001b[3A\u001b[2K\u001b[3A\u001b[2K\u001b[3A\u001b[2K\u001b[3A\u001b[2K\u001b[3A\u001b[2K\u001b[3A\u001b[2K\u001b[3A\u001b[2K\u001b[3A\u001b[2K\u001b[3A\u001b[2KDownloading  92.59MB/146MB\u001b[3A\u001b[2K\u001b[3A\u001b[2K\u001b[3A\u001b[2K\u001b[3A\u001b[2K\u001b[3A\u001b[2K\u001b[3A\u001b[2K\u001b[3A\u001b[2K\u001b[3A\u001b[2K\u001b[3A\u001b[2K\u001b[3A\u001b[2K\u001b[3A\u001b[2K\u001b[3A\u001b[2K\u001b[3A\u001b[2K\u001b[3A\u001b[2K\u001b[3A\u001b[2K\u001b[3A\u001b[2K\u001b[3A\u001b[2K\u001b[3A\u001b[2K\u001b[3A\u001b[2K\u001b[3A\u001b[2K\u001b[3A\u001b[2K\u001b[3A\u001b[2K\u001b[3A\u001b[2K\u001b[3A\u001b[2K\u001b[3A\u001b[2K\u001b[3A\u001b[2K\u001b[3A\u001b[2K\u001b[3A\u001b[2K\u001b[3A\u001b[2K\u001b[3A\u001b[2K\u001b[3A\u001b[2K\u001b[3A\u001b[2K\u001b[3A\u001b[2K\u001b[3A\u001b[2K\u001b[3A\u001b[2K\u001b[3A\u001b[2K\u001b[3A\u001b[2K\u001b[3A\u001b[2K\u001b[3A\u001b[2K\u001b[3A\u001b[2K\u001b[3A\u001b[2K\u001b[3A\u001b[2K\u001b[3A\u001b[2K\u001b[3A\u001b[2K\u001b[3A\u001b[2K\u001b[3A\u001b[2K\u001b[3A\u001b[2K\u001b[3A\u001b[2K\u001b[3A\u001b[2K\u001b[3A\u001b[2K\u001b[3A\u001b[2K\u001b[3A\u001b[2K\u001b[3A\u001b[2K\u001b[3A\u001b[2K\u001b[3A\u001b[2K\u001b[3A\u001b[2K\u001b[3A\u001b[2K\u001b[3A\u001b[2K\u001b[3A\u001b[2K\u001b[3A\u001b[2K\u001b[3A\u001b[2K\u001b[3A\u001b[2K\u001b[3A\u001b[2K\u001b[3A\u001b[2K\u001b[3A\u001b[2K\u001b[3A\u001b[2K\u001b[3A\u001b[2K\u001b[3A\u001b[2K\u001b[3A\u001b[2K\u001b[3A\u001b[2K\u001b[3A\u001b[2K\u001b[3A\u001b[2K\u001b[3A\u001b[2K\u001b[3A\u001b[2K\u001b[3A\u001b[2K\u001b[3A\u001b[2K\u001b[3A\u001b[2K\u001b[3A\u001b[2K\u001b[3A\u001b[2K\u001b[3A\u001b[2K\u001b[3A\u001b[2K\u001b[3A\u001b[2K\u001b[3A\u001b[2K\u001b[3A\u001b[2K\u001b[3A\u001b[2K\u001b[3A\u001b[2K\u001b[3A\u001b[2K\u001b[3A\u001b[2K\u001b[3A\u001b[2K\u001b[3A\u001b[2K\u001b[3A\u001b[2K\u001b[3A\u001b[2K\u001b[3A\u001b[2K\u001b[3A\u001b[2K\u001b[3A\u001b[2K\u001b[3A\u001b[2K\u001b[3A\u001b[2K\u001b[3A\u001b[2K\u001b[3A\u001b[2K\u001b[3A\u001b[2K\u001b[3A\u001b[2K\u001b[3A\u001b[2K\u001b[3A\u001b[2K\u001b[3A\u001b[2K\u001b[3A\u001b[2K\u001b[3A\u001b[2K\u001b[3A\u001b[2K\u001b[3A\u001b[2K\u001b[3A\u001b[2K\u001b[3A\u001b[2K\u001b[3A\u001b[2K\u001b[3A\u001b[2K\u001b[3A\u001b[2K\u001b[3A\u001b[2K\u001b[3A\u001b[2K\u001b[3A\u001b[2K\u001b[3A\u001b[2K\u001b[3A\u001b[2K\u001b[3A\u001b[2K\u001b[3A\u001b[2K\u001b[3A\u001b[2K\u001b[3A\u001b[2K\u001b[3A\u001b[2K\u001b[3A\u001b[2K\u001b[3A\u001b[2K\u001b[3A\u001b[2K\u001b[3A\u001b[2K\u001b[3A\u001b[2K\u001b[3A\u001b[2K\u001b[3A\u001b[2K\u001b[3A\u001b[2K\u001b[3A\u001b[2K\u001b[3A\u001b[2K\u001b[3A\u001b[2K\u001b[3A\u001b[2K\u001b[3A\u001b[2K\u001b[3A\u001b[2K\u001b[3A\u001b[2K\u001b[3A\u001b[2K\u001b[3A\u001b[2K\u001b[3A\u001b[2K\u001b[3A\u001b[2K\u001b[3A\u001b[2K\u001b[3A\u001b[2K\u001b[3A\u001b[2K\u001b[3A\u001b[2K\u001b[3A\u001b[2K\u001b[3A\u001b[2K\u001b[2A\u001b[2K\u001b[2A\u001b[2K\u001b[2A\u001b[2K\u001b[2A\u001b[2K\u001b[2A\u001b[2K\u001b[1A\u001b[2K\n",
      "Status: Downloaded newer image for milvusdb/milvus:1.1.0-cpu-d050721-5e559c\n",
      "19989220e7464a2e288779bb28345b6b6ecceab2bfc9a18a7097ef6dcbdd914c\n"
     ]
    }
   ],
   "source": [
    "! docker run -d \\\n",
    "-p 19530:19530 \\\n",
    "-p 19121:19121 \\\n",
    "milvusdb/milvus:1.1.0-cpu-d050721-5e559c"
   ]
  },
  {
   "cell_type": "markdown",
   "id": "dd12c33c",
   "metadata": {},
   "source": [
    "## Start MySQL\n",
    "MySQL is used to store the molecular formula and id, which support quickly search the molecular corresponding to the id."
   ]
  },
  {
   "cell_type": "code",
   "execution_count": 19,
   "id": "a55dbaa3",
   "metadata": {},
   "outputs": [
    {
     "name": "stdout",
     "output_type": "stream",
     "text": [
      "f7018a98a095d261163ed22509fb7dde72a51d60235dc1ce13ed93a6e9f12718\r\n"
     ]
    }
   ],
   "source": [
    "! docker run -p 3306:3306 -e MYSQL_ROOT_PASSWORD=123456 -d mysql:5.7"
   ]
  },
  {
   "cell_type": "markdown",
   "id": "7376d076",
   "metadata": {},
   "source": [
    "## Running code\n",
    "After preparing the conda environment (installing RDKit, etc.) and successfully starting Milvus and MySQL, we will start processing the molecular formula data, storing it in Milvus and do similarity searches."
   ]
  },
  {
   "cell_type": "markdown",
   "id": "004d04b3",
   "metadata": {},
   "source": [
    "#### 1. Connect the server\n",
    "We first connect to the servers. In this case the docker containers are running on localhost and the ports are the default ports."
   ]
  },
  {
   "cell_type": "code",
   "execution_count": 21,
   "id": "5a3f09d4",
   "metadata": {},
   "outputs": [],
   "source": [
    "# connect to the Milvus and MySQL server.\n",
    "from milvus import *\n",
    "import pymysql\n",
    "\n",
    "milvus = Milvus(host='localhost', port='19530')\n",
    "conn = pymysql.connect(host='localhost', user='root', port=3306, password='123456', db='mysql', local_infile=True)\n",
    "cursor = conn.cursor()"
   ]
  },
  {
   "cell_type": "markdown",
   "id": "94fef14e",
   "metadata": {},
   "source": [
    "#### 2. Generate molecular fingerprint with RDKit\n",
    "Before run the following code, we declare some variables, such as the dimension of the vector, the name of the collection/table, the path of the SMILES file and the target SMILES molecular."
   ]
  },
  {
   "cell_type": "code",
   "execution_count": 53,
   "id": "048db401",
   "metadata": {},
   "outputs": [],
   "source": [
    "VECTOR_DIMENSION = 512\n",
    "collection_name = 'mol_search'\n",
    "file_path = './smiles-data/test_1w.smi'\n",
    "target_smiles = 'Cc1ccc(cc1)S(=O)(=O)N'"
   ]
  },
  {
   "cell_type": "markdown",
   "id": "793fd6e5",
   "metadata": {},
   "source": [
    "We can use RDKit to generate Morgan fingerprints, which defines a radius from a specific atom and calculates the number of chemical structures within the range of the radius to generate a chemical fingerprint. Specify different values for the radius and bits to acquire the chemical fingerprints of different chemical structures. The molecular formula are represented in SMILES format."
   ]
  },
  {
   "cell_type": "code",
   "execution_count": 23,
   "id": "74b54643",
   "metadata": {},
   "outputs": [],
   "source": [
    "from rdkit import Chem\n",
    "from rdkit.Chem import AllChem\n",
    "from rdkit import DataStructs\n",
    "\n",
    "def smiles_to_vec(smiles):\n",
    "    mols = Chem.MolFromSmiles(smiles)\n",
    "    fp = AllChem.GetMorganFingerprintAsBitVect(mols, 2, VECTOR_DIMENSION)\n",
    "    hex_fp = DataStructs.BitVectToFPSText(fp)\n",
    "    vec = bytes.fromhex(hex_fp)\n",
    "    return vec"
   ]
  },
  {
   "cell_type": "markdown",
   "id": "5c40791a",
   "metadata": {},
   "source": [
    "#### 3. Create the Milvus collection \n",
    "The next step is to create the collection in Milvus in order to store and retireval the molecular fingerprints. We need to specify the parameter `collection_name`, `dimension`, `index_file_size` and `metric_type` when creating."
   ]
  },
  {
   "cell_type": "code",
   "execution_count": 41,
   "id": "793b9697",
   "metadata": {},
   "outputs": [],
   "source": [
    "collection_param = {\n",
    "     \"collection_name\": collection_name,\n",
    "     \"dimension\": VECTOR_DIMENSION,\n",
    "     \"index_file_size\": 2048,\n",
    "     \"metric_type\": MetricType.JACCARD\n",
    "}\n",
    "status, ok = milvus.has_collection(collection_name)\n",
    "\n",
    "if not ok:\n",
    "    milvus.create_collection(collection_param)"
   ]
  },
  {
   "cell_type": "markdown",
   "id": "dcab58f9",
   "metadata": {},
   "source": [
    "#### 4. Load the molecular fingerprint to Milvus\n",
    "Then we can then read the SMILES file and batch insert it into Milvus."
   ]
  },
  {
   "cell_type": "code",
   "execution_count": 24,
   "id": "7e249e8a",
   "metadata": {},
   "outputs": [],
   "source": [
    "# get all the fingerprint in the file\n",
    "def get_vectors(file_path):\n",
    "    ids = []\n",
    "    vectors = []\n",
    "    with open(file_path, 'r') as f:\n",
    "        for line in f:\n",
    "            line = line.strip().split()\n",
    "            smiles = line[0]\n",
    "            num = int(line[1])\n",
    "            vec = smiles_to_vec(smiles)\n",
    "            vectors.append(vec)\n",
    "            ids.append(num)\n",
    "    return vectors, ids"
   ]
  },
  {
   "cell_type": "code",
   "execution_count": 32,
   "id": "ab410c68",
   "metadata": {},
   "outputs": [],
   "source": [
    "# batch insert the fingerprint to Milvus\n",
    "vectors, ids = get_vectors(file_path)\n",
    "status, mids = milvus.insert(collection_name, vectors, ids)\n",
    "print(status, len(mids))"
   ]
  },
  {
   "cell_type": "markdown",
   "id": "32761975",
   "metadata": {},
   "source": [
    "#### 5. Load the SMILES file to MySQL\n",
    "We have successfully stored the molecular fingerprints and ids in Milvus, next we will load the SMILES and ids in MySQL, the reason is that Milvus v1.1 does not support scalar filtering yet (2.0 will support it), and the query result will only return ids, so we need MySQL to store and search the returned ids corresponding to the SMILES."
   ]
  },
  {
   "cell_type": "code",
   "execution_count": 20,
   "id": "f6f9f0e5",
   "metadata": {},
   "outputs": [],
   "source": [
    "# create the table in MySQL\n",
    "def create_table_mysql(conn, cursor, table_name):\n",
    "    sql = \"create table if not exists \" + table_name + \"(smiles varchar(256), ids bigint);\"\n",
    "    try:\n",
    "        cursor.execute(sql)\n",
    "        conn.commit()\n",
    "    except Exception as e:\n",
    "        print(\"MYSQL ERROR:\", e, sql)\n",
    "\n",
    "# load the local file to MySQL\n",
    "def load_data_mysql(conn, cursor, table_name, file_path):\n",
    "    sql = \"load data local infile '\" + file_path + \"' into table \" + table_name + \";\"\n",
    "    try:\n",
    "        cursor.execute(sql)\n",
    "        conn.commit()\n",
    "    except Exception as e:\n",
    "        print(\"MYSQL ERROR:\", e, sql)"
   ]
  },
  {
   "cell_type": "code",
   "execution_count": null,
   "id": "28f75491",
   "metadata": {},
   "outputs": [],
   "source": [
    "create_table_mysql(conn, cursor, collection_name)\n",
    "load_data_mysql(conn, cursor, collection_name, file_path)"
   ]
  },
  {
   "cell_type": "markdown",
   "id": "39e780ab",
   "metadata": {},
   "source": [
    "#### 6. Search the similarity molecular \n",
    "After load the data, we can do the similarity search. First convert the SMILES into molecular fingerprints and then retrieved in Milvus. Milvus will return similar ids and distances, and then get the SMILES in MySQL according to the result ids."
   ]
  },
  {
   "cell_type": "code",
   "execution_count": 63,
   "id": "10bc65fb",
   "metadata": {},
   "outputs": [],
   "source": [
    "# get the similar results(ids and distance) with the target smiles in Milvus\n",
    "def search_in_milvus(collection_name, smiles, top_k):\n",
    "    vec = smiles_to_vec(smiles)\n",
    "    status, vectors = milvus.search(collection_name, top_k, [vec], params={\"metric_type\": MetricType.JACCARD})\n",
    "    print(status)\n",
    "    re_ids = [x.id for x in vectors[0]]\n",
    "    re_distance = [x.distance for x in vectors[0]]\n",
    "\n",
    "    return re_ids, re_distance"
   ]
  },
  {
   "cell_type": "code",
   "execution_count": 64,
   "id": "1a5d4c61",
   "metadata": {},
   "outputs": [],
   "source": [
    "# get the smiles according the result ids\n",
    "def search_by_milvus_id(conn, cursor, collection_name, ids):\n",
    "    str_ids = str(ids).replace('[','').replace(']','')\n",
    "    sql = \"select smiles from \" + collection_name + \" where ids in (\" + str_ids + \") order by field (ids, \" + str_ids + \");\"\n",
    "    try:\n",
    "        cursor.execute(sql)\n",
    "        results = cursor.fetchall()\n",
    "        results = [res[0] for res in results]\n",
    "        return results\n",
    "    except Exception as e:\n",
    "        print(\"MYSQL ERROR:\", e, sql)"
   ]
  },
  {
   "cell_type": "code",
   "execution_count": 65,
   "id": "fcdd9056",
   "metadata": {},
   "outputs": [
    {
     "name": "stdout",
     "output_type": "stream",
     "text": [
      "Status(code=0, message='Search vectors successfully!')\n",
      "['Cc1ccc(cc1)S(=O)(=O)N', 'Cc1ccc(cc1)S(=O)(=O)Cl', 'Nc1ccc(cc1)S(=O)(=O)N', 'Cc1ccc(cc1)S(=O)(=O)F', 'Cc1ccc(cc1)S(=O)(=O)O'] [6269, 7397, 5333, 9965, 6101] [0.0, 0.3636363744735718, 0.40909090638160706, 0.43478259444236755, 0.43478259444236755]\n"
     ]
    }
   ],
   "source": [
    "re_ids, re_distance = search_in_milvus(collection_name, target_smiles, 5)\n",
    "re_smiles = search_by_milvus_id(conn, cursor, collection_name, re_ids)\n",
    "print(re_smiles, re_ids, re_distance)"
   ]
  },
  {
   "cell_type": "markdown",
   "id": "431a41e8",
   "metadata": {},
   "source": [
    "#### 7. Show the results\n",
    "Finally we get the top five results that are most similar to the target SMILES('Cc1ccc(cc1)S(=O)(=O)N'), and we can also visualize the results."
   ]
  },
  {
   "cell_type": "code",
   "execution_count": 28,
   "id": "f6d642b4",
   "metadata": {},
   "outputs": [],
   "source": [
    "from rdkit.Chem import Draw\n",
    "def draw_smiles(smiles):\n",
    "    mols = Chem.MolFromSmiles(smiles)\n",
    "    img = Draw.MolsToGridImage([mols], molsPerRow=1, subImgSize=(150, 150))\n",
    "    return img"
   ]
  },
  {
   "cell_type": "code",
   "execution_count": 31,
   "id": "0b5fc7b4",
   "metadata": {},
   "outputs": [
    {
     "name": "stdout",
     "output_type": "stream",
     "text": [
      "target-smiles: Cc1ccc(cc1)S(=O)(=O)N\n"
     ]
    },
    {
     "data": {
      "image/png": "[encoded data removed]",
      "text/plain": [
       "<IPython.core.display.Image object>"
      ]
     },
     "metadata": {},
     "output_type": "display_data"
    }
   ],
   "source": [
    "# show the target smiles\n",
    "img = draw_smiles(target_smiles)\n",
    "print(\"target-smiles:\", target_smiles)\n",
    "display(img)"
   ]
  },
  {
   "cell_type": "code",
   "execution_count": 35,
   "id": "a60df877",
   "metadata": {},
   "outputs": [
    {
     "name": "stdout",
     "output_type": "stream",
     "text": [
      "Cc1ccc(cc1)S(=O)(=O)N \tids: 6269 \tdistance: 0.0\n"
     ]
    },
    {
     "data": {
      "image/png": "[encoded data removed]",
      "text/plain": [
       "<IPython.core.display.Image object>"
      ]
     },
     "metadata": {},
     "output_type": "display_data"
    },
    {
     "name": "stdout",
     "output_type": "stream",
     "text": [
      "Cc1ccc(cc1)S(=O)(=O)Cl \tids: 7397 \tdistance: 0.3636363744735718\n"
     ]
    },
    {
     "data": {
      "image/png": "[encoded data removed]",
      "text/plain": [
       "<IPython.core.display.Image object>"
      ]
     },
     "metadata": {},
     "output_type": "display_data"
    },
    {
     "name": "stdout",
     "output_type": "stream",
     "text": [
      "Nc1ccc(cc1)S(=O)(=O)N \tids: 5333 \tdistance: 0.40909090638160706\n"
     ]
    },
    {
     "data": {
      "image/png": "[encoded data removed]",
      "text/plain": [
       "<IPython.core.display.Image object>"
      ]
     },
     "metadata": {},
     "output_type": "display_data"
    },
    {
     "name": "stdout",
     "output_type": "stream",
     "text": [
      "Cc1ccc(cc1)S(=O)(=O)F \tids: 9965 \tdistance: 0.43478259444236755\n"
     ]
    },
    {
     "data": {
      "image/png": "[encoded data removed]",
      "text/plain": [
       "<IPython.core.display.Image object>"
      ]
     },
     "metadata": {},
     "output_type": "display_data"
    },
    {
     "name": "stdout",
     "output_type": "stream",
     "text": [
      "Cc1ccc(cc1)S(=O)(=O)O \tids: 6101 \tdistance: 0.43478259444236755\n"
     ]
    },
    {
     "data": {
      "image/png": "[encoded data removed]",
      "text/plain": [
       "<IPython.core.display.Image object>"
      ]
     },
     "metadata": {},
     "output_type": "display_data"
    }
   ],
   "source": [
    "# show the tok5 similar molecules \n",
    "for s, i, d in zip(re_smiles,re_ids, re_distance):\n",
    "    print(s, \"\\tids:\", i, \"\\tdistance:\", d)\n",
    "    display(draw_smiles(s))"
   ]
  },
  {
   "cell_type": "markdown",
   "id": "40563145",
   "metadata": {},
   "source": [
    "## Conclusion\n",
    "This notebook shows how to search the similar molecular, we can also saerch the superstructure and substructure with the different [METRICS](https://milvus.io/docs/v1.1.0/metric.md#floating) when search in Milvus.\n",
    "\n",
    "We have also built the demo system (https://milvus.io/scenarios), and we also have an open source projects on substructure and superstructure search in [MolSearch](https://github.com/zilliztech/MolSearch), so you are welcome to try it yourself and search your own molecular."
   ]
  }
 ],
 "metadata": {
  "kernelspec": {
   "display_name": "Python 3",
   "language": "python",
   "name": "python3"
  },
  "language_info": {
   "codemirror_mode": {
    "name": "ipython",
    "version": 3
   },
   "file_extension": ".py",
   "mimetype": "text/x-python",
   "name": "python",
   "nbconvert_exporter": "python",
   "pygments_lexer": "ipython3",
   "version": "3.7.10"
  }
 },
 "nbformat": 4,
 "nbformat_minor": 5
}
